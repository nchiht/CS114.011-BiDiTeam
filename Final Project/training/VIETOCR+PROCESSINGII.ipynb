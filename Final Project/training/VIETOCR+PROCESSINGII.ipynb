{
  "cells": [
    {
      "cell_type": "markdown",
      "metadata": {
        "id": "yPAt2vkDdRS-"
      },
      "source": [
        "## install"
      ]
    },
    {
      "cell_type": "code",
      "execution_count": null,
      "metadata": {
        "colab": {
          "base_uri": "https://localhost:8080/"
        },
        "id": "794ChnMivTqA",
        "outputId": "9c4597fa-5114-4e10-aedc-828c1e917e18"
      },
      "outputs": [
        {
          "name": "stdout",
          "output_type": "stream",
          "text": [
            "Mounted at /content/drive\n"
          ]
        }
      ],
      "source": [
        "from google.colab import drive\n",
        "drive.mount('/content/drive')"
      ]
    },
    {
      "cell_type": "code",
      "execution_count": null,
      "metadata": {
        "colab": {
          "base_uri": "https://localhost:8080/"
        },
        "id": "fIxjFrOu85FK",
        "outputId": "2fd79523-62f3-4e29-8bb9-67b45ddcb3d4"
      },
      "outputs": [
        {
          "name": "stdout",
          "output_type": "stream",
          "text": [
            "Collecting jiwer\n",
            "  Downloading jiwer-3.0.3-py3-none-any.whl (21 kB)\n",
            "Requirement already satisfied: click<9.0.0,>=8.1.3 in /usr/local/lib/python3.10/dist-packages (from jiwer) (8.1.7)\n",
            "Collecting rapidfuzz<4,>=3 (from jiwer)\n",
            "  Downloading rapidfuzz-3.6.1-cp310-cp310-manylinux_2_17_x86_64.manylinux2014_x86_64.whl (3.4 MB)\n",
            "\u001b[2K     \u001b[90m━━━━━━━━━━━━━━━━━━━━━━━━━━━━━━━━━━━━━━━━\u001b[0m \u001b[32m3.4/3.4 MB\u001b[0m \u001b[31m11.9 MB/s\u001b[0m eta \u001b[36m0:00:00\u001b[0m\n",
            "\u001b[?25hInstalling collected packages: rapidfuzz, jiwer\n",
            "Successfully installed jiwer-3.0.3 rapidfuzz-3.6.1\n"
          ]
        }
      ],
      "source": [
        "!pip install jiwer\n",
        "from jiwer import wer,cer"
      ]
    },
    {
      "cell_type": "code",
      "execution_count": null,
      "metadata": {
        "id": "P_M-KrphCd-d"
      },
      "outputs": [],
      "source": [
        "from tqdm import tqdm\n",
        "from shapely.geometry import Polygon"
      ]
    },
    {
      "cell_type": "code",
      "execution_count": null,
      "metadata": {
        "colab": {
          "base_uri": "https://localhost:8080/"
        },
        "id": "LZvGHPQ5igWe",
        "outputId": "2e5b2e1a-ce45-4d0e-b224-37e2951d81ce"
      },
      "outputs": [
        {
          "name": "stdout",
          "output_type": "stream",
          "text": [
            "Requirement already satisfied: vietocr==0.3.5 in /usr/local/lib/python3.10/dist-packages (0.3.5)\n",
            "Requirement already satisfied: einops==0.2.0 in /usr/local/lib/python3.10/dist-packages (from vietocr==0.3.5) (0.2.0)\n",
            "Requirement already satisfied: gdown==3.11.0 in /usr/local/lib/python3.10/dist-packages (from vietocr==0.3.5) (3.11.0)\n",
            "Requirement already satisfied: prefetch-generator==1.0.1 in /usr/local/lib/python3.10/dist-packages (from vietocr==0.3.5) (1.0.1)\n",
            "Requirement already satisfied: imgaug==0.4.0 in /usr/local/lib/python3.10/dist-packages (from vietocr==0.3.5) (0.4.0)\n",
            "Requirement already satisfied: lmdb==1.0.0 in /usr/local/lib/python3.10/dist-packages (from vietocr==0.3.5) (1.0.0)\n",
            "Requirement already satisfied: filelock in /usr/local/lib/python3.10/dist-packages (from gdown==3.11.0->vietocr==0.3.5) (3.13.1)\n",
            "Requirement already satisfied: requests[socks] in /usr/local/lib/python3.10/dist-packages (from gdown==3.11.0->vietocr==0.3.5) (2.31.0)\n",
            "Requirement already satisfied: six in /usr/local/lib/python3.10/dist-packages (from gdown==3.11.0->vietocr==0.3.5) (1.16.0)\n",
            "Requirement already satisfied: tqdm in /usr/local/lib/python3.10/dist-packages (from gdown==3.11.0->vietocr==0.3.5) (4.66.1)\n",
            "Requirement already satisfied: numpy>=1.15 in /usr/local/lib/python3.10/dist-packages (from imgaug==0.4.0->vietocr==0.3.5) (1.23.5)\n",
            "Requirement already satisfied: scipy in /usr/local/lib/python3.10/dist-packages (from imgaug==0.4.0->vietocr==0.3.5) (1.11.4)\n",
            "Requirement already satisfied: Pillow in /usr/local/lib/python3.10/dist-packages (from imgaug==0.4.0->vietocr==0.3.5) (9.4.0)\n",
            "Requirement already satisfied: matplotlib in /usr/local/lib/python3.10/dist-packages (from imgaug==0.4.0->vietocr==0.3.5) (3.7.1)\n",
            "Requirement already satisfied: scikit-image>=0.14.2 in /usr/local/lib/python3.10/dist-packages (from imgaug==0.4.0->vietocr==0.3.5) (0.19.3)\n",
            "Requirement already satisfied: opencv-python in /usr/local/lib/python3.10/dist-packages (from imgaug==0.4.0->vietocr==0.3.5) (4.8.0.76)\n",
            "Requirement already satisfied: imageio in /usr/local/lib/python3.10/dist-packages (from imgaug==0.4.0->vietocr==0.3.5) (2.31.6)\n",
            "Requirement already satisfied: Shapely in /usr/local/lib/python3.10/dist-packages (from imgaug==0.4.0->vietocr==0.3.5) (2.0.2)\n",
            "Requirement already satisfied: networkx>=2.2 in /usr/local/lib/python3.10/dist-packages (from scikit-image>=0.14.2->imgaug==0.4.0->vietocr==0.3.5) (3.2.1)\n",
            "Requirement already satisfied: tifffile>=2019.7.26 in /usr/local/lib/python3.10/dist-packages (from scikit-image>=0.14.2->imgaug==0.4.0->vietocr==0.3.5) (2023.12.9)\n",
            "Requirement already satisfied: PyWavelets>=1.1.1 in /usr/local/lib/python3.10/dist-packages (from scikit-image>=0.14.2->imgaug==0.4.0->vietocr==0.3.5) (1.5.0)\n",
            "Requirement already satisfied: packaging>=20.0 in /usr/local/lib/python3.10/dist-packages (from scikit-image>=0.14.2->imgaug==0.4.0->vietocr==0.3.5) (23.2)\n",
            "Requirement already satisfied: contourpy>=1.0.1 in /usr/local/lib/python3.10/dist-packages (from matplotlib->imgaug==0.4.0->vietocr==0.3.5) (1.2.0)\n",
            "Requirement already satisfied: cycler>=0.10 in /usr/local/lib/python3.10/dist-packages (from matplotlib->imgaug==0.4.0->vietocr==0.3.5) (0.12.1)\n",
            "Requirement already satisfied: fonttools>=4.22.0 in /usr/local/lib/python3.10/dist-packages (from matplotlib->imgaug==0.4.0->vietocr==0.3.5) (4.47.0)\n",
            "Requirement already satisfied: kiwisolver>=1.0.1 in /usr/local/lib/python3.10/dist-packages (from matplotlib->imgaug==0.4.0->vietocr==0.3.5) (1.4.5)\n",
            "Requirement already satisfied: pyparsing>=2.3.1 in /usr/local/lib/python3.10/dist-packages (from matplotlib->imgaug==0.4.0->vietocr==0.3.5) (3.1.1)\n",
            "Requirement already satisfied: python-dateutil>=2.7 in /usr/local/lib/python3.10/dist-packages (from matplotlib->imgaug==0.4.0->vietocr==0.3.5) (2.8.2)\n",
            "Requirement already satisfied: charset-normalizer<4,>=2 in /usr/local/lib/python3.10/dist-packages (from requests[socks]->gdown==3.11.0->vietocr==0.3.5) (3.3.2)\n",
            "Requirement already satisfied: idna<4,>=2.5 in /usr/local/lib/python3.10/dist-packages (from requests[socks]->gdown==3.11.0->vietocr==0.3.5) (3.6)\n",
            "Requirement already satisfied: urllib3<3,>=1.21.1 in /usr/local/lib/python3.10/dist-packages (from requests[socks]->gdown==3.11.0->vietocr==0.3.5) (2.0.7)\n",
            "Requirement already satisfied: certifi>=2017.4.17 in /usr/local/lib/python3.10/dist-packages (from requests[socks]->gdown==3.11.0->vietocr==0.3.5) (2023.11.17)\n",
            "Requirement already satisfied: PySocks!=1.5.7,>=1.5.6 in /usr/local/lib/python3.10/dist-packages (from requests[socks]->gdown==3.11.0->vietocr==0.3.5) (1.7.1)\n"
          ]
        }
      ],
      "source": [
        "!pip install vietocr==0.3.5"
      ]
    },
    {
      "cell_type": "code",
      "execution_count": null,
      "metadata": {
        "id": "ZqvvCgoTjre7"
      },
      "outputs": [],
      "source": [
        "import matplotlib.pyplot as plt\n",
        "from PIL import Image\n",
        "\n",
        "from vietocr.tool.predictor import Predictor\n",
        "from vietocr.tool.config import Cfg\n",
        "import pandas as pd\n",
        "import numpy as np\n",
        "import ast"
      ]
    },
    {
      "cell_type": "code",
      "execution_count": null,
      "metadata": {
        "id": "o57TMWC7hYZP"
      },
      "outputs": [],
      "source": [
        "from statistics import mean"
      ]
    },
    {
      "cell_type": "code",
      "execution_count": null,
      "metadata": {
        "id": "jTcGLeKQjr8U"
      },
      "outputs": [],
      "source": [
        "config = Cfg.load_config_from_name('vgg_transformer')"
      ]
    },
    {
      "cell_type": "code",
      "execution_count": null,
      "metadata": {
        "id": "MeydFhDIjtNT"
      },
      "outputs": [],
      "source": [
        "# config['weights'] = './weights/transformerocr.pth'\n",
        "# config['weights'] = 'https://drive.google.com/uc?id=13327Y1tz1ohsm5YZMyXVMPIOjoOA0OaA'\n",
        "config['cnn']['pretrained']=False\n",
        "config['device'] = 'cuda:0'\n",
        "config['predictor']['beamsearch']=False"
      ]
    },
    {
      "cell_type": "code",
      "execution_count": null,
      "metadata": {
        "colab": {
          "base_uri": "https://localhost:8080/"
        },
        "id": "ggfwdcVFk9Pz",
        "outputId": "b969c8fd-8ac8-4918-c8a6-a723e6ca63fc"
      },
      "outputs": [
        {
          "name": "stderr",
          "output_type": "stream",
          "text": [
            "Cached Downloading: /root/.cache/gdown/https-COLON--SLASH--SLASH-vocr.vn-SLASH-data-SLASH-vietocr-SLASH-vgg_transformer.pth\n",
            "Downloading...\n",
            "From: https://vocr.vn/data/vietocr/vgg_transformer.pth\n",
            "To: /root/.cache/gdown/tmp26zi2kij/dl\n",
            "100%|██████████| 152M/152M [00:09<00:00, 15.5MB/s]\n"
          ]
        }
      ],
      "source": [
        "detector = Predictor(config)"
      ]
    },
    {
      "cell_type": "code",
      "execution_count": null,
      "metadata": {
        "id": "JAHmIqfimlgz"
      },
      "outputs": [],
      "source": [
        "#res = ast.literal_eval(test_string)"
      ]
    },
    {
      "cell_type": "markdown",
      "metadata": {
        "id": "WfYnF17hQ9LD"
      },
      "source": [
        "test draft"
      ]
    },
    {
      "cell_type": "code",
      "execution_count": null,
      "metadata": {
        "colab": {
          "base_uri": "https://localhost:8080/",
          "height": 35
        },
        "id": "n1b3N9FQk_YC",
        "outputId": "cab8929e-1d08-47a2-84e6-3c326318148e"
      },
      "outputs": [
        {
          "data": {
            "application/vnd.google.colaboratory.intrinsic+json": {
              "type": "string"
            },
            "text/plain": [
              "\"\\nimg = '/content/drive/MyDrive/CS114/Final Project/Prediction/VIETOCR/photo_100@05-01-2022_08-41-58/0.jpg'\\nimg = Image.open(img)\\nplt.imshow(img)\\ns = detector.predict(img)\\ns\\n\""
            ]
          },
          "execution_count": 17,
          "metadata": {},
          "output_type": "execute_result"
        }
      ],
      "source": [
        "'''\n",
        "img = '/content/drive/MyDrive/CS114/Final Project/Prediction/VIETOCR/photo_100@05-01-2022_08-41-58/0.jpg'\n",
        "img = Image.open(img)\n",
        "plt.imshow(img)\n",
        "s = detector.predict(img)\n",
        "s\n",
        "'''"
      ]
    },
    {
      "cell_type": "markdown",
      "metadata": {
        "id": "ShwOJr4uRABR"
      },
      "source": [
        "#Predict Test"
      ]
    },
    {
      "cell_type": "code",
      "execution_count": null,
      "metadata": {
        "id": "jBwtn3kXstI3"
      },
      "outputs": [],
      "source": [
        "##f = open(all_test, \"r\")\n",
        "##f.read()\n",
        "#f.close()"
      ]
    },
    {
      "cell_type": "code",
      "execution_count": null,
      "metadata": {
        "id": "S6TtBEa1mnIc"
      },
      "outputs": [],
      "source": [
        "all_test = \"/content/drive/MyDrive/CS114/Final Project/Model/Saving_Model/PaddleOCR/output/det_r50_vd_sast_totaltext/predicts_sast_all_test.txt\""
      ]
    },
    {
      "cell_type": "code",
      "execution_count": null,
      "metadata": {
        "colab": {
          "base_uri": "https://localhost:8080/"
        },
        "id": "Zu4r5fmznHJR",
        "outputId": "d778f065-5119-43f3-996c-dacfdb72c58a"
      },
      "outputs": [
        {
          "name": "stderr",
          "output_type": "stream",
          "text": [
            "/usr/local/lib/python3.7/dist-packages/pandas/core/indexing.py:1732: SettingWithCopyWarning: \n",
            "A value is trying to be set on a copy of a slice from a DataFrame\n",
            "\n",
            "See the caveats in the documentation: https://pandas.pydata.org/pandas-docs/stable/user_guide/indexing.html#returning-a-view-versus-a-copy\n",
            "  self._setitem_single_block(indexer, value, name)\n"
          ]
        }
      ],
      "source": [
        "df_pre = pd.read_csv(all_test,sep=\"\\n\", header= None)\n",
        "df_pre.columns = [\"name\"]\n",
        "df_pre[\"points\"] = np.nan\n",
        "\n",
        "for i in range(len(df_pre)):\n",
        "  temp = df_pre[\"name\"].iloc[i].split(\"\\t\")\n",
        "  df_pre[\"name\"].iloc[i] =  temp[0]\n",
        "  df_pre[\"points\"].iloc[i] =  temp[1]"
      ]
    },
    {
      "cell_type": "code",
      "execution_count": null,
      "metadata": {
        "id": "no0FSRLLa2q2"
      },
      "outputs": [],
      "source": [
        "for i in range(len(df_pre)):\n",
        "  df_pre[\"points\"].iloc[i] = df_pre[\"points\"].iloc[i].replace('{\"transcription\": \"\", \"points\": ',\"\")\n",
        "  df_pre[\"points\"].iloc[i] = df_pre[\"points\"].iloc[i].replace('}',\"\")\n",
        "  df_pre[\"points\"].iloc[i] = df_pre[\"points\"].iloc[i].replace(\"[[[\",\"\")\n",
        "  df_pre[\"points\"].iloc[i] = df_pre[\"points\"].iloc[i].replace(\"]]]\",\"\")\n",
        "  df_pre[\"points\"].iloc[i] = df_pre[\"points\"].iloc[i].replace(\"]], [[\",\"||\")\n",
        "  df_pre[\"points\"].iloc[i] = df_pre[\"points\"].iloc[i].replace(\"], [\",\"|\")\n",
        "  df_pre[\"points\"].iloc[i] = df_pre[\"points\"].iloc[i].replace(\"[\",\"\")\n",
        "\n",
        "  lst = []\n",
        "  #print(\">>>>image\", i)   #each image\n",
        "  sub_image_lst = df_pre[\"points\"].iloc[i].split(\"||\")\n",
        "  #print(\"sub_image\", len(sub_image_lst))\n",
        "  for s in range(len(sub_image_lst)):  #lst_pts\n",
        "    #print(ơ)\n",
        "    lst_pts = []                             #pts of subimage\n",
        "    sub_image = sub_image_lst[s].split(\"|\")\n",
        "    for index in range(len(sub_image)):\n",
        "      temp = sub_image[index].split(\", \")\n",
        "      #for te in range(len(temp)):\n",
        "        #temp[te] = temp[te].replace(\"[\",\"\")\n",
        "        #temp[te] = temp[te].replace(\"]\",\"\")\n",
        "        #temp[te] = temp[te].replace(\",\",\"\")\n",
        "      lst_pts.append([int(float(temp[0])), int(float(temp[1]))])\n",
        "    lst.append(lst_pts)\n",
        "  df_pre[\"points\"].iloc[i] = lst"
      ]
    },
    {
      "cell_type": "code",
      "execution_count": null,
      "metadata": {
        "id": "bgo-TQAJsavh"
      },
      "outputs": [],
      "source": [
        "test_dir = \"/content/drive/MyDrive/CS114/Final Project/Data/Train_test_val/Test/\"\n",
        "prediction_dir = \"/content/drive/MyDrive/CS114/Final Project/Prediction/VIETOCR/\""
      ]
    },
    {
      "cell_type": "code",
      "execution_count": null,
      "metadata": {
        "colab": {
          "base_uri": "https://localhost:8080/"
        },
        "id": "xOJ6ackLelns",
        "outputId": "9c074b03-31ae-4603-a748-8fc17e0ec4bd"
      },
      "outputs": [
        {
          "data": {
            "application/vnd.google.colaboratory.intrinsic+json": {
              "type": "string"
            },
            "text/plain": [
              "'/content/drive/MyDrive/CS114/Final Project/Prediction/VIETOCR/'"
            ]
          },
          "execution_count": 21,
          "metadata": {},
          "output_type": "execute_result"
        }
      ],
      "source": [
        "prediction_dir"
      ]
    },
    {
      "cell_type": "code",
      "execution_count": null,
      "metadata": {
        "id": "hnCKdXYor1pP"
      },
      "outputs": [],
      "source": [
        "for i in range(len(df_pre)):\n",
        "  df_pre[\"name\"].iloc[i] = df_pre[\"name\"].iloc[i].replace(test_dir, \"\")\n",
        "  #df_pre[\"name\"].iloc[i] = df_pre[\"name\"].iloc[i].replace(\".jpg\", \"\")"
      ]
    },
    {
      "cell_type": "code",
      "execution_count": null,
      "metadata": {
        "id": "UPRBgnG0s8-3"
      },
      "outputs": [],
      "source": [
        "df_pre[\"text\"] = np.nan"
      ]
    },
    {
      "cell_type": "code",
      "execution_count": null,
      "metadata": {
        "id": "s_kDL8rF1RcM"
      },
      "outputs": [],
      "source": [
        "#test_dir+df_pre[\"name\"].iloc[i]+str(j)"
      ]
    },
    {
      "cell_type": "code",
      "execution_count": null,
      "metadata": {
        "colab": {
          "base_uri": "https://localhost:8080/"
        },
        "id": "3cqR-imaecqz",
        "outputId": "bf0ac02f-8c2d-4df7-bb97-8ddd99a91d5e"
      },
      "outputs": [
        {
          "data": {
            "application/vnd.google.colaboratory.intrinsic+json": {
              "type": "string"
            },
            "text/plain": [
              "'/content/drive/MyDrive/CS114/Final Project/Prediction/VIETOCR/'"
            ]
          },
          "execution_count": 25,
          "metadata": {},
          "output_type": "execute_result"
        }
      ],
      "source": [
        "prediction_dir"
      ]
    },
    {
      "cell_type": "code",
      "execution_count": null,
      "metadata": {
        "id": "rDaGJ9Cwsvf-"
      },
      "outputs": [],
      "source": [
        "def predict(df):\n",
        "  for i in range(len(df)):\n",
        "    #print(\">>\",i)\n",
        "    lst_text = []\n",
        "    for j in range(len(df[\"points\"].iloc[i])):\n",
        "      img_name = prediction_dir+df[\"name\"].iloc[i].replace(\".jpg\",\"\")+\"/\"+str(j)+\".jpg\"\n",
        "      img = Image.open(img_name)\n",
        "      #plt.imshow(img)\n",
        "      s = detector.predict(img)\n",
        "      lst_text.append(s)\n",
        "    df[\"text\"].iloc[i] = lst_text"
      ]
    },
    {
      "cell_type": "code",
      "execution_count": null,
      "metadata": {
        "colab": {
          "base_uri": "https://localhost:8080/"
        },
        "id": "kyi4UsKkfg7U",
        "outputId": "0e92a6cf-c970-421c-b7e6-a637962e2007"
      },
      "outputs": [
        {
          "data": {
            "text/plain": [
              "4"
            ]
          },
          "execution_count": 27,
          "metadata": {},
          "output_type": "execute_result"
        }
      ],
      "source": [
        "len(df_pre[\"points\"].iloc[0])"
      ]
    },
    {
      "cell_type": "code",
      "execution_count": null,
      "metadata": {
        "colab": {
          "base_uri": "https://localhost:8080/"
        },
        "id": "zMfWOSRt2Plq",
        "outputId": "86c82e6b-e07f-43a7-971d-04003bbe1578"
      },
      "outputs": [
        {
          "name": "stderr",
          "output_type": "stream",
          "text": [
            "/usr/local/lib/python3.7/dist-packages/pandas/core/indexing.py:1732: SettingWithCopyWarning: \n",
            "A value is trying to be set on a copy of a slice from a DataFrame\n",
            "\n",
            "See the caveats in the documentation: https://pandas.pydata.org/pandas-docs/stable/user_guide/indexing.html#returning-a-view-versus-a-copy\n",
            "  self._setitem_single_block(indexer, value, name)\n"
          ]
        }
      ],
      "source": [
        "predict(df_pre)"
      ]
    },
    {
      "cell_type": "code",
      "execution_count": null,
      "metadata": {
        "id": "OQBT-bjN5YF3"
      },
      "outputs": [],
      "source": [
        "for i in range(len(df_pre)):\n",
        "  for j in range(len(df_pre[\"text\"].iloc[i] )):\n",
        "    df_pre[\"text\"].iloc[i][j]= df_pre[\"text\"].iloc[i][j].upper()"
      ]
    },
    {
      "cell_type": "code",
      "execution_count": null,
      "metadata": {
        "colab": {
          "base_uri": "https://localhost:8080/"
        },
        "id": "H0cOjL54fnz3",
        "outputId": "4aef0123-7dde-4e01-a8ff-676a308f80b4"
      },
      "outputs": [
        {
          "data": {
            "application/vnd.google.colaboratory.intrinsic+json": {
              "type": "string"
            },
            "text/plain": [
              "'/content/drive/MyDrive/CS114/Final Project/Prediction/VIETOCR/'"
            ]
          },
          "execution_count": 30,
          "metadata": {},
          "output_type": "execute_result"
        }
      ],
      "source": [
        "prediction_dir"
      ]
    },
    {
      "cell_type": "code",
      "execution_count": null,
      "metadata": {
        "id": "l2WIgokAwTCF"
      },
      "outputs": [],
      "source": [
        "df_pre.to_csv(\"/content/drive/MyDrive/CS114/Final Project/Prediction/VIETOCR/VietOCR_predict.csv\", index =None)"
      ]
    },
    {
      "cell_type": "code",
      "execution_count": null,
      "metadata": {
        "colab": {
          "base_uri": "https://localhost:8080/"
        },
        "id": "uQgzScWW8f9k",
        "outputId": "0663af31-cc39-403c-89df-6594f989cc89"
      },
      "outputs": [
        {
          "data": {
            "application/vnd.google.colaboratory.intrinsic+json": {
              "type": "string"
            },
            "text/plain": [
              "'ground_truth = [\"hello world\"]\\nhypothesis = [\"hello duck\"]\\n\\nerror = wer(ground_truth, hypothesis)\\nprint(\"wer\",error )\\n\\nerror = cer(ground_truth, hypothesis)\\nprint(\"cer\",error )'"
            ]
          },
          "execution_count": 32,
          "metadata": {},
          "output_type": "execute_result"
        }
      ],
      "source": [
        "'''ground_truth = [\"hello world\"]\n",
        "hypothesis = [\"hello duck\"]\n",
        "\n",
        "error = wer(ground_truth, hypothesis)\n",
        "print(\"wer\",error )\n",
        "\n",
        "error = cer(ground_truth, hypothesis)\n",
        "print(\"cer\",error )'''"
      ]
    },
    {
      "cell_type": "code",
      "execution_count": null,
      "metadata": {
        "id": "6_m-CB9c2u8A"
      },
      "outputs": [],
      "source": [
        "#df.to_csv(\"/content/drive/MyDrive/CS114/Final Project/Prediction/VIETOCR\")"
      ]
    },
    {
      "cell_type": "code",
      "execution_count": null,
      "metadata": {
        "id": "FfjCEnsoDiZv"
      },
      "outputs": [],
      "source": [
        "#df_predict = pd.read_csv(\"/content/drive/MyDrive/CS114/Final Project/Prediction/VIETOCR/VietOCR_predict.csv\")"
      ]
    },
    {
      "cell_type": "code",
      "execution_count": null,
      "metadata": {
        "id": "Sxh86B6pEXyc"
      },
      "outputs": [],
      "source": [
        "#df_predict[df_predict[\"name\"] == \"photo_1@05-01-2022_08-40-54.jpg\".replace(\".jpg\", \"\")]"
      ]
    },
    {
      "cell_type": "markdown",
      "metadata": {
        "id": "f2FF-s1JAr4i"
      },
      "source": [
        "#Ground Truth"
      ]
    },
    {
      "cell_type": "code",
      "execution_count": null,
      "metadata": {
        "id": "gg8g7MxXA-0P"
      },
      "outputs": [],
      "source": [
        "ground_truth = \"/content/drive/MyDrive/CS114/Final Project/Data/Train_test_val/Label/Test_Label.txt\""
      ]
    },
    {
      "cell_type": "code",
      "execution_count": null,
      "metadata": {
        "id": "AreS86U_DYfg"
      },
      "outputs": [],
      "source": [
        "def convertDfTrue(path):\n",
        "  f = open(path, \"r\")\n",
        "  lst = []\n",
        "  for x in f:\n",
        "    temp = x.split(\"\\t\")\n",
        "    lst.append(temp)\n",
        "\n",
        "  df = pd.DataFrame(lst)\n",
        "  df.columns=[\"name\", \"detect\"]\n",
        "  df[\"points\"] = np.nan\n",
        "  df[\"text\"]= np.nan\n",
        "\n",
        "  final_lst =[]\n",
        "  for i in tqdm (range(len(df)), desc=\"Loading…\", ascii=False, ncols=75):\n",
        "    points = []\n",
        "    text= []\n",
        "    temp = df[\"detect\"].iloc[i].split('\"difficult\": false}')\n",
        "    temp.pop(-1)\n",
        "    for j in range(len(temp)):\n",
        "      temp1 = temp[j].strip(\"[, \")+\"}\"\n",
        "      try:\n",
        "        dct_temp = ast.literal_eval(temp1)\n",
        "        points.append(dct_temp[\"points\"])\n",
        "        text.append(dct_temp[\"transcription\"])\n",
        "      except:\n",
        "        temp2 = temp1.split(', \"difficult\": true}, ')\n",
        "        temp2[0]=temp2[0]+\"}\"\n",
        "        for h in temp2:\n",
        "          dct_temp = ast.literal_eval(h)\n",
        "          points.append(dct_temp[\"points\"])\n",
        "          text.append(dct_temp[\"transcription\"])\n",
        "\n",
        "    final_lst.append([[df[\"name\"].iloc[i]],points ,text ])\n",
        "  _df = pd.DataFrame(final_lst)\n",
        "  #_df = _df.set_index(_df[0])\n",
        "  #_df = _df.drop([0], axis=1)\n",
        "  _df.columns = [\"name\",\"points\", \"text\"]\n",
        "  for i in range(len(_df)):\n",
        "    _df[\"name\"].iloc[i] = _df[\"name\"].iloc[i][0]\n",
        "    _df[\"name\"].iloc[i] = _df[\"name\"].iloc[i].replace(\"Test/\",\"\")\n",
        "  #print(_df)\n",
        "  return _df"
      ]
    },
    {
      "cell_type": "code",
      "execution_count": null,
      "metadata": {
        "colab": {
          "base_uri": "https://localhost:8080/"
        },
        "id": "18NLuG9-MOwl",
        "outputId": "0aeb9762-3ae6-4d28-8f8b-242f6d5178cf"
      },
      "outputs": [
        {
          "name": "stderr",
          "output_type": "stream",
          "text": [
            "Loading…: 100%|███████████████████████████| 90/90 [00:00<00:00, 887.01it/s]\n"
          ]
        }
      ],
      "source": [
        "df_true = convertDfTrue(ground_truth)"
      ]
    },
    {
      "cell_type": "code",
      "execution_count": null,
      "metadata": {
        "id": "CD4qamjkMUI-"
      },
      "outputs": [],
      "source": [
        "df_true = df_true.sort_values(\"name\")"
      ]
    },
    {
      "cell_type": "code",
      "execution_count": null,
      "metadata": {
        "id": "44sADLNTRuAW"
      },
      "outputs": [],
      "source": [
        "for i in range(len(df_true)):\n",
        "  for j in range(len(df_true[\"text\"].iloc[i] )):\n",
        "    df_true[\"text\"].iloc[i][j]= df_true[\"text\"].iloc[i][j].upper()"
      ]
    },
    {
      "cell_type": "code",
      "execution_count": null,
      "metadata": {
        "colab": {
          "base_uri": "https://localhost:8080/"
        },
        "id": "IS9xEM3DWl1I",
        "outputId": "f9e3ba27-123c-4445-c35d-1078e2c5055e"
      },
      "outputs": [
        {
          "data": {
            "text/html": [
              "\n",
              "  <div id=\"df-6ab6e05c-720d-4e6b-b210-b3478b8645a9\">\n",
              "    <div class=\"colab-df-container\">\n",
              "      <div>\n",
              "<style scoped>\n",
              "    .dataframe tbody tr th:only-of-type {\n",
              "        vertical-align: middle;\n",
              "    }\n",
              "\n",
              "    .dataframe tbody tr th {\n",
              "        vertical-align: top;\n",
              "    }\n",
              "\n",
              "    .dataframe thead th {\n",
              "        text-align: right;\n",
              "    }\n",
              "</style>\n",
              "<table border=\"1\" class=\"dataframe\">\n",
              "  <thead>\n",
              "    <tr style=\"text-align: right;\">\n",
              "      <th></th>\n",
              "      <th>name</th>\n",
              "      <th>points</th>\n",
              "      <th>text</th>\n",
              "    </tr>\n",
              "  </thead>\n",
              "  <tbody>\n",
              "    <tr>\n",
              "      <th>15</th>\n",
              "      <td>photo_100@05-01-2022_08-41-58.jpg</td>\n",
              "      <td>[[[173, 206], [621, 206], [621, 364], [173, 36...</td>\n",
              "      <td>[THÁM TỬ, TỪ VỰNG, ANN RICHMOND FISHER, NHÀ XU...</td>\n",
              "    </tr>\n",
              "    <tr>\n",
              "      <th>16</th>\n",
              "      <td>photo_110@05-01-2022_08-42-14.jpg</td>\n",
              "      <td>[[[424, 228], [566, 228], [566, 249], [424, 24...</td>\n",
              "      <td>[LÊ THỊ MỸ TRINH, GIẢI BÀI TẬP, TIẾNG, VIỆT, 2...</td>\n",
              "    </tr>\n",
              "    <tr>\n",
              "      <th>17</th>\n",
              "      <td>photo_133@05-01-2022_08-42-34.jpg</td>\n",
              "      <td>[[[460, 75], [572, 75], [572, 93], [460, 93]],...</td>\n",
              "      <td>[BÙI VĂN VINH, DƯƠNG THỊ HỒNG ĐIỆP, THE LANGMA...</td>\n",
              "    </tr>\n",
              "    <tr>\n",
              "      <th>18</th>\n",
              "      <td>photo_139@05-01-2022_08-42-34.jpg</td>\n",
              "      <td>[[[312, 145], [525, 147], [525, 165], [312, 16...</td>\n",
              "      <td>[GS.TS. LÊ ANH VINH (CHỦ BIÊN), VŨ VĂN LUÂN - ...</td>\n",
              "    </tr>\n",
              "    <tr>\n",
              "      <th>19</th>\n",
              "      <td>photo_141@05-01-2022_08-42-42.jpg</td>\n",
              "      <td>[[[212, 170], [469, 184], [468, 202], [211, 18...</td>\n",
              "      <td>[THS. NGUYỄN QUỐC TUẤN (CHỦ BIÊN), THS. HUỲNH ...</td>\n",
              "    </tr>\n",
              "    <tr>\n",
              "      <th>...</th>\n",
              "      <td>...</td>\n",
              "      <td>...</td>\n",
              "      <td>...</td>\n",
              "    </tr>\n",
              "    <tr>\n",
              "      <th>10</th>\n",
              "      <td>photo_78@05-01-2022_08-41-41.jpg</td>\n",
              "      <td>[[[288, 415], [715, 381], [723, 466], [302, 49...</td>\n",
              "      <td>[BỒI DƯỠNG, HÓA HỌC, THEO CHỦ ĐỀ, ĐẠI HỌC SƯ P...</td>\n",
              "    </tr>\n",
              "    <tr>\n",
              "      <th>11</th>\n",
              "      <td>photo_79@05-01-2022_08-41-41.jpg</td>\n",
              "      <td>[[[520, 13], [726, 16], [726, 39], [520, 36]],...</td>\n",
              "      <td>[HUỲNH VĂN ÚT, GIÁO VIÊN BỒI DƯỠNG HỌC SINH GI...</td>\n",
              "    </tr>\n",
              "    <tr>\n",
              "      <th>12</th>\n",
              "      <td>photo_83@05-01-2022_08-41-50.jpg</td>\n",
              "      <td>[[[359, 66], [566, 74], [565, 100], [358, 93]]...</td>\n",
              "      <td>[HUỲNH VĂN ÚT, BÀI TẬP HAY &amp; KHÓ, HÓA, HỌC, 10...</td>\n",
              "    </tr>\n",
              "    <tr>\n",
              "      <th>13</th>\n",
              "      <td>photo_93@05-01-2022_08-41-58.jpg</td>\n",
              "      <td>[[[396, 126], [578, 124], [579, 147], [398, 15...</td>\n",
              "      <td>[NGUYỄN THỊ THU HUẾ, THE LANGMASTER, BỘ ĐỀ KIỂ...</td>\n",
              "    </tr>\n",
              "    <tr>\n",
              "      <th>14</th>\n",
              "      <td>photo_97@05-01-2022_08-41-58.jpg</td>\n",
              "      <td>[[[108, 86], [215, 89], [209, 110], [108, 105]...</td>\n",
              "      <td>[DƯƠNG HƯƠNG, BỘ ĐỀ, HOO, LUYỆN GIẢI, BỒI DƯỠN...</td>\n",
              "    </tr>\n",
              "  </tbody>\n",
              "</table>\n",
              "<p>90 rows × 3 columns</p>\n",
              "</div>\n",
              "      <button class=\"colab-df-convert\" onclick=\"convertToInteractive('df-6ab6e05c-720d-4e6b-b210-b3478b8645a9')\"\n",
              "              title=\"Convert this dataframe to an interactive table.\"\n",
              "              style=\"display:none;\">\n",
              "        \n",
              "  <svg xmlns=\"http://www.w3.org/2000/svg\" height=\"24px\"viewBox=\"0 0 24 24\"\n",
              "       width=\"24px\">\n",
              "    <path d=\"M0 0h24v24H0V0z\" fill=\"none\"/>\n",
              "    <path d=\"M18.56 5.44l.94 2.06.94-2.06 2.06-.94-2.06-.94-.94-2.06-.94 2.06-2.06.94zm-11 1L8.5 8.5l.94-2.06 2.06-.94-2.06-.94L8.5 2.5l-.94 2.06-2.06.94zm10 10l.94 2.06.94-2.06 2.06-.94-2.06-.94-.94-2.06-.94 2.06-2.06.94z\"/><path d=\"M17.41 7.96l-1.37-1.37c-.4-.4-.92-.59-1.43-.59-.52 0-1.04.2-1.43.59L10.3 9.45l-7.72 7.72c-.78.78-.78 2.05 0 2.83L4 21.41c.39.39.9.59 1.41.59.51 0 1.02-.2 1.41-.59l7.78-7.78 2.81-2.81c.8-.78.8-2.07 0-2.86zM5.41 20L4 18.59l7.72-7.72 1.47 1.35L5.41 20z\"/>\n",
              "  </svg>\n",
              "      </button>\n",
              "      \n",
              "  <style>\n",
              "    .colab-df-container {\n",
              "      display:flex;\n",
              "      flex-wrap:wrap;\n",
              "      gap: 12px;\n",
              "    }\n",
              "\n",
              "    .colab-df-convert {\n",
              "      background-color: #E8F0FE;\n",
              "      border: none;\n",
              "      border-radius: 50%;\n",
              "      cursor: pointer;\n",
              "      display: none;\n",
              "      fill: #1967D2;\n",
              "      height: 32px;\n",
              "      padding: 0 0 0 0;\n",
              "      width: 32px;\n",
              "    }\n",
              "\n",
              "    .colab-df-convert:hover {\n",
              "      background-color: #E2EBFA;\n",
              "      box-shadow: 0px 1px 2px rgba(60, 64, 67, 0.3), 0px 1px 3px 1px rgba(60, 64, 67, 0.15);\n",
              "      fill: #174EA6;\n",
              "    }\n",
              "\n",
              "    [theme=dark] .colab-df-convert {\n",
              "      background-color: #3B4455;\n",
              "      fill: #D2E3FC;\n",
              "    }\n",
              "\n",
              "    [theme=dark] .colab-df-convert:hover {\n",
              "      background-color: #434B5C;\n",
              "      box-shadow: 0px 1px 3px 1px rgba(0, 0, 0, 0.15);\n",
              "      filter: drop-shadow(0px 1px 2px rgba(0, 0, 0, 0.3));\n",
              "      fill: #FFFFFF;\n",
              "    }\n",
              "  </style>\n",
              "\n",
              "      <script>\n",
              "        const buttonEl =\n",
              "          document.querySelector('#df-6ab6e05c-720d-4e6b-b210-b3478b8645a9 button.colab-df-convert');\n",
              "        buttonEl.style.display =\n",
              "          google.colab.kernel.accessAllowed ? 'block' : 'none';\n",
              "\n",
              "        async function convertToInteractive(key) {\n",
              "          const element = document.querySelector('#df-6ab6e05c-720d-4e6b-b210-b3478b8645a9');\n",
              "          const dataTable =\n",
              "            await google.colab.kernel.invokeFunction('convertToInteractive',\n",
              "                                                     [key], {});\n",
              "          if (!dataTable) return;\n",
              "\n",
              "          const docLinkHtml = 'Like what you see? Visit the ' +\n",
              "            '<a target=\"_blank\" href=https://colab.research.google.com/notebooks/data_table.ipynb>data table notebook</a>'\n",
              "            + ' to learn more about interactive tables.';\n",
              "          element.innerHTML = '';\n",
              "          dataTable['output_type'] = 'display_data';\n",
              "          await google.colab.output.renderOutput(dataTable, element);\n",
              "          const docLink = document.createElement('div');\n",
              "          docLink.innerHTML = docLinkHtml;\n",
              "          element.appendChild(docLink);\n",
              "        }\n",
              "      </script>\n",
              "    </div>\n",
              "  </div>\n",
              "  "
            ],
            "text/plain": [
              "                                 name  ...                                               text\n",
              "15  photo_100@05-01-2022_08-41-58.jpg  ...  [THÁM TỬ, TỪ VỰNG, ANN RICHMOND FISHER, NHÀ XU...\n",
              "16  photo_110@05-01-2022_08-42-14.jpg  ...  [LÊ THỊ MỸ TRINH, GIẢI BÀI TẬP, TIẾNG, VIỆT, 2...\n",
              "17  photo_133@05-01-2022_08-42-34.jpg  ...  [BÙI VĂN VINH, DƯƠNG THỊ HỒNG ĐIỆP, THE LANGMA...\n",
              "18  photo_139@05-01-2022_08-42-34.jpg  ...  [GS.TS. LÊ ANH VINH (CHỦ BIÊN), VŨ VĂN LUÂN - ...\n",
              "19  photo_141@05-01-2022_08-42-42.jpg  ...  [THS. NGUYỄN QUỐC TUẤN (CHỦ BIÊN), THS. HUỲNH ...\n",
              "..                                ...  ...                                                ...\n",
              "10   photo_78@05-01-2022_08-41-41.jpg  ...  [BỒI DƯỠNG, HÓA HỌC, THEO CHỦ ĐỀ, ĐẠI HỌC SƯ P...\n",
              "11   photo_79@05-01-2022_08-41-41.jpg  ...  [HUỲNH VĂN ÚT, GIÁO VIÊN BỒI DƯỠNG HỌC SINH GI...\n",
              "12   photo_83@05-01-2022_08-41-50.jpg  ...  [HUỲNH VĂN ÚT, BÀI TẬP HAY & KHÓ, HÓA, HỌC, 10...\n",
              "13   photo_93@05-01-2022_08-41-58.jpg  ...  [NGUYỄN THỊ THU HUẾ, THE LANGMASTER, BỘ ĐỀ KIỂ...\n",
              "14   photo_97@05-01-2022_08-41-58.jpg  ...  [DƯƠNG HƯƠNG, BỘ ĐỀ, HOO, LUYỆN GIẢI, BỒI DƯỠN...\n",
              "\n",
              "[90 rows x 3 columns]"
            ]
          },
          "execution_count": 49,
          "metadata": {},
          "output_type": "execute_result"
        }
      ],
      "source": [
        "df_true"
      ]
    },
    {
      "cell_type": "markdown",
      "metadata": {
        "id": "VzNMiNG8SKDg"
      },
      "source": [
        "#Evaluation"
      ]
    },
    {
      "cell_type": "code",
      "execution_count": null,
      "metadata": {
        "id": "yCtcDHSeqZ1d"
      },
      "outputs": [],
      "source": [
        "def CalculateIou(lst1, lst2):\n",
        "  polygon1 = Polygon(np.array(lst1))\n",
        "  polygon2 = Polygon(np.array(lst2))\n",
        "  intersect = polygon1.intersection(polygon2).area\n",
        "  union = polygon1.union(polygon2).area\n",
        "  iou = intersect / union\n",
        "  #print(iou)\n",
        "  return iou"
      ]
    },
    {
      "cell_type": "code",
      "execution_count": null,
      "metadata": {
        "id": "3QeAyVeOymht"
      },
      "outputs": [],
      "source": [
        "lst_name = list(df_true[\"name\"])"
      ]
    },
    {
      "cell_type": "code",
      "execution_count": null,
      "metadata": {
        "id": "u-CoWsZ1ytza"
      },
      "outputs": [],
      "source": [
        "name =lst_name[0]"
      ]
    },
    {
      "cell_type": "code",
      "execution_count": null,
      "metadata": {
        "colab": {
          "base_uri": "https://localhost:8080/"
        },
        "id": "k9jj3lnL0KUB",
        "outputId": "c867ed67-697f-4813-fe6c-33958bb6e9ef"
      },
      "outputs": [
        {
          "data": {
            "text/plain": [
              "array([list([[[173, 206], [621, 206], [621, 364], [173, 364]], [[332, 359], [744, 359], [744, 524], [332, 524]], [[104, 1134], [354, 1113], [356, 1136], [106, 1157]], [[596, 1096], [596, 1105], [640, 1107], [639, 1098]], [[597, 1105], [619, 1105], [621, 1114], [597, 1115]], [[222, 393], [262, 398], [260, 411], [220, 407]], [[201, 405], [272, 411], [274, 429], [200, 421]], [[215, 423], [254, 427], [252, 483], [212, 476]]])],\n",
              "      dtype=object)"
            ]
          },
          "execution_count": 53,
          "metadata": {},
          "output_type": "execute_result"
        }
      ],
      "source": [
        "df_true[df_true[\"name\"] == name][\"points\"].values"
      ]
    },
    {
      "cell_type": "code",
      "execution_count": null,
      "metadata": {
        "colab": {
          "base_uri": "https://localhost:8080/"
        },
        "id": "M9me-kqhy__O",
        "outputId": "a3b87f78-b6ec-4597-8c4c-308b0367d5d5"
      },
      "outputs": [
        {
          "data": {
            "text/plain": [
              "array([list([[[154, 196], [281, 190], [364, 178], [443, 188], [521, 185], [639, 187], [645, 379], [523, 389], [445, 386], [367, 388], [282, 383], [154, 381]], [[310, 358], [424, 350], [516, 364], [598, 366], [689, 353], [821, 368], [822, 534], [691, 532], [603, 539], [516, 540], [428, 530], [314, 543]], [[100, 1131], [160, 1125], [208, 1120], [256, 1115], [305, 1112], [359, 1108], [361, 1138], [307, 1144], [259, 1148], [211, 1153], [163, 1157], [104, 1160]], [[637, 327], [648, 327], [785, 348], [785, 350], [790, 354], [787, 394], [793, 473], [793, 537], [787, 534], [787, 544], [649, 351], [638, 351]]])],\n",
              "      dtype=object)"
            ]
          },
          "execution_count": 54,
          "metadata": {},
          "output_type": "execute_result"
        }
      ],
      "source": [
        "df_pre[df_pre[\"name\"] == name][\"points\"].values"
      ]
    },
    {
      "cell_type": "code",
      "execution_count": null,
      "metadata": {
        "id": "ktdE6kTsoPw9"
      },
      "outputs": [],
      "source": [
        "def CalculateScore_image(name,threshold ):\n",
        "  true = df_true[df_true[\"name\"] == name][\"points\"].values\n",
        "  pre  = df_pre[df_pre[\"name\"] == name][\"points\"].values\n",
        "\n",
        "  temp_lst = []\n",
        "  for i in range(len(pre[0])):\n",
        "    for j in range(len(true[0])):\n",
        "      iou = CalculateIou(pre[0][i], true[0][j])\n",
        "      temp_lst.append([i, j, iou])\n",
        "  temp_df = pd.DataFrame(temp_lst, columns = [\"pol_pre\", \"pol_true\", \"iou\"])\n",
        "  temp_df = temp_df.sort_values([\"iou\", \"pol_true\"], ascending=False)\n",
        "  temp_df = temp_df.reset_index()\n",
        "\n",
        "  overlap = {}\n",
        "  temp_df[\"select\"]=np.nan\n",
        "  temp_df[\"evaluate\"]  = np.nan\n",
        "  for i in range(len(pre[0]) *len(true[0])):\n",
        "    if temp_df[\"pol_true\"].iloc[i] not in overlap.keys():\n",
        "      overlap.update({temp_df[\"pol_true\"].iloc[i]:temp_df[\"pol_pre\"].iloc[i]})\n",
        "      temp_df[\"select\"].iloc[i] =1\n",
        "\n",
        "  for i in range(len(pre[0]) *len(true[0])):\n",
        "    if (temp_df[\"iou\"].iloc[i] >= threshold and temp_df[\"select\"].iloc[i] == 1.0):\n",
        "      temp_df[\"evaluate\"].iloc[i] = \"True Positive\"\n",
        "    if (temp_df[\"iou\"].iloc[i] >= threshold and temp_df[\"select\"].iloc[i] != 1.0):\n",
        "      temp_df[\"evaluate\"].iloc[i] = \"False Positive\"\n",
        "    if (temp_df[\"iou\"].iloc[i] <= threshold and temp_df[\"select\"].iloc[i] == 1.0):\n",
        "      temp_df[\"evaluate\"].iloc[i] = \"False Negative\"\n",
        "  #temp_df = temp_df[temp_df[\"select\"] == 1]\n",
        "\n",
        "  #iou = list(temp_df[\"iou\"])\n",
        "  #REDUNDANT\n",
        "  redundant = []\n",
        "  temp_re = set(list(temp_df[\"pol_pre\"]))\n",
        "  for i in temp_re:\n",
        "    if i not in list(temp_df[temp_df[\"select\"]==1][\"pol_pre\"]):\n",
        "      #iou.append(0)\n",
        "      redundant.append(\"FP\")\n",
        "\n",
        "  #MISS\n",
        "  miss = []\n",
        "  temp_miss = set(list(temp_df[\"pol_true\"]))\n",
        "  for i in temp_miss:\n",
        "    if i not in list(temp_df[temp_df[\"select\"]==1][\"pol_true\"]):\n",
        "      #iou.append(0)\n",
        "      miss.append(\"FN\")\n",
        "\n",
        "  FN = len(miss) + len(temp_df[temp_df[\"evaluate\"]==\"False Negative\"])\n",
        "  TP = len(temp_df[temp_df[\"evaluate\"]==\"True Positive\"])\n",
        "  FP = len(temp_df[temp_df[\"evaluate\"]==\"False Positive\"]) +len(redundant)\n",
        "  precision = TP/(TP + FP)\n",
        "  recall    = TP/(TP + FN)\n",
        "  final_df = temp_df[temp_df[\"evaluate\"]== \"True Positive\"]\n",
        "  final_df.to_csv(prediction_dir+name.replace(\".jpg\",\"\")+\"/\"+name.replace(\".jpg\",\"\")+\".csv\", index = None)\n",
        "  return precision, recall"
      ]
    },
    {
      "cell_type": "code",
      "execution_count": null,
      "metadata": {
        "colab": {
          "base_uri": "https://localhost:8080/"
        },
        "id": "_EMclQ7vtgWx",
        "outputId": "c61f419a-9a46-4ef5-fa4b-3e2af71b2e4c"
      },
      "outputs": [
        {
          "data": {
            "application/vnd.google.colaboratory.intrinsic+json": {
              "type": "string"
            },
            "text/plain": [
              "'/content/drive/MyDrive/CS114/Final Project/Prediction/VIETOCR/'"
            ]
          },
          "execution_count": 56,
          "metadata": {},
          "output_type": "execute_result"
        }
      ],
      "source": [
        "prediction_dir"
      ]
    },
    {
      "cell_type": "code",
      "execution_count": null,
      "metadata": {
        "id": "ngCIC4fxobxF"
      },
      "outputs": [],
      "source": [
        "def CalculateIou_Test(lst_file, thresold):\n",
        "  precision = []\n",
        "  recall = []\n",
        "  #lst_file.pop(-1)\n",
        "  for i in tqdm (range(len(lst_file)), desc=\"Loading…\", ascii=False, ncols=75):\n",
        "  #for i in range(len(lst_file)):\n",
        "    #print(i)\n",
        "    try:\n",
        "      p, r = CalculateScore_image(lst_file[i], threshold)\n",
        "      precision.append(p)\n",
        "      recall.append(r)\n",
        "    except:\n",
        "      pass\n",
        "  pre = mean(precision)\n",
        "  re  = mean(recall)\n",
        "  return pre, re"
      ]
    },
    {
      "cell_type": "code",
      "execution_count": null,
      "metadata": {
        "colab": {
          "base_uri": "https://localhost:8080/"
        },
        "id": "MrcxQqO5xfX_",
        "outputId": "c42c3497-3c4a-479c-c453-40ae3f44916f"
      },
      "outputs": [
        {
          "name": "stderr",
          "output_type": "stream",
          "text": [
            "Loading…:   0%|                                     | 0/90 [00:00<?, ?it/s]/usr/local/lib/python3.7/dist-packages/pandas/core/indexing.py:1732: SettingWithCopyWarning: \n",
            "A value is trying to be set on a copy of a slice from a DataFrame\n",
            "\n",
            "See the caveats in the documentation: https://pandas.pydata.org/pandas-docs/stable/user_guide/indexing.html#returning-a-view-versus-a-copy\n",
            "  self._setitem_single_block(indexer, value, name)\n",
            "Loading…:   9%|██▌                          | 8/90 [00:01<00:16,  5.10it/s]TopologyException: Input geom 0 is invalid: Self-intersection at 777.78378378378375 716.59459459459458\n",
            "Loading…:  14%|████                        | 13/90 [00:02<00:12,  6.17it/s]TopologyException: Input geom 0 is invalid: Self-intersection at 797.73226995969469 654.42191921790584\n",
            "Loading…:  21%|█████▉                      | 19/90 [00:02<00:10,  6.55it/s]TopologyException: Input geom 0 is invalid: Self-intersection at 572 718.5\n",
            "Loading…:  23%|██████▌                     | 21/90 [00:03<00:08,  8.08it/s]TopologyException: Input geom 0 is invalid: Self-intersection at 709.93922211958079 807.47717644060776\n",
            "TopologyException: Input geom 0 is invalid: Self-intersection at 678.9684940138626 459.06070153329131\n",
            "Loading…:  96%|██████████████████████████▊ | 86/90 [00:14<00:00,  5.43it/s]TopologyException: Input geom 0 is invalid: Self-intersection at 781.96302879488087 375.36260220405262\n",
            "Loading…: 100%|████████████████████████████| 90/90 [00:15<00:00,  5.93it/s]\n"
          ]
        }
      ],
      "source": [
        "threshold = 0.5\n",
        "precision50, recall50 = CalculateIou_Test(lst_name, threshold)"
      ]
    },
    {
      "cell_type": "code",
      "execution_count": null,
      "metadata": {
        "colab": {
          "base_uri": "https://localhost:8080/"
        },
        "id": "DwlyHnGixwi5",
        "outputId": "3328d322-77dd-4bf3-c168-b077dc5cefc4"
      },
      "outputs": [
        {
          "name": "stdout",
          "output_type": "stream",
          "text": [
            "Precision:  0.8861991513777228 \n",
            " Recall:  0.6923219967862825\n"
          ]
        }
      ],
      "source": [
        "print(\"Precision: \",precision50,\"\\n\", \"Recall: \", recall50)"
      ]
    },
    {
      "cell_type": "code",
      "execution_count": null,
      "metadata": {
        "id": "1ty6YY9WDvbC"
      },
      "outputs": [],
      "source": [
        "#0.8861991513777228"
      ]
    },
    {
      "cell_type": "code",
      "execution_count": null,
      "metadata": {
        "id": "lgxJzJvwyNyj"
      },
      "outputs": [],
      "source": [
        "h_mean = 2*precision50*recall50/(precision50 + recall50)"
      ]
    },
    {
      "cell_type": "code",
      "execution_count": null,
      "metadata": {
        "colab": {
          "base_uri": "https://localhost:8080/"
        },
        "id": "HyniAoff1bVx",
        "outputId": "8d7769d0-0307-46c1-941b-3d01d9b7bb0e"
      },
      "outputs": [
        {
          "data": {
            "text/plain": [
              "0.7773543822909731"
            ]
          },
          "execution_count": 62,
          "metadata": {},
          "output_type": "execute_result"
        }
      ],
      "source": [
        "h_mean"
      ]
    },
    {
      "cell_type": "code",
      "execution_count": null,
      "metadata": {
        "id": "k1lnRrCCiqm1"
      },
      "outputs": [],
      "source": [
        "def Calculate_score_text(final_true_df, final_pre_df):\n",
        "  #cer_lst = []\n",
        "  #wer_lst = []\n",
        "  true = []\n",
        "  pre = []\n",
        "  for i in range(len(lst_file)):\n",
        "    name = lst_file[i]\n",
        "    try:\n",
        "      df = pd.read_csv(point_text+name+\".csv\")\n",
        "      true_lst = []\n",
        "      pre_lst  = []\n",
        "      for i in range(len(df)):\n",
        "        true_lst.append(final_true_df[final_true_df[\"name\"]==name][\"text\"].values[0][df[\"pol_true\"].iloc[i]])\n",
        "        pre_lst.append(final_pre_df[final_pre_df[\"name\"]==name][\"text\"].values[0][df[\"pol_pre\"].iloc[i]])\n",
        "      true.append(true_lst)\n",
        "      pre.append(pre_lst)\n",
        "    except:\n",
        "      pass\n",
        "    #w = wer(true_lst, pre_lst)\n",
        "    #c = cer(true_lst, pre_lst)\n",
        "    #cer_lst.append(c)\n",
        "    #wer_lst.append(w)\n",
        "  #_cer = mean(cer_lst)\n",
        "  #_wer = mean(wer_lst)\n",
        "  return true, pre\n"
      ]
    },
    {
      "cell_type": "code",
      "execution_count": null,
      "metadata": {
        "id": "CBI6ZiYk1gnJ"
      },
      "outputs": [],
      "source": [
        "def get_true_pre(final_true_df, final_pre_df):\n",
        "  true = []\n",
        "  pre = []\n",
        "  for i in range(len(lst_name)):\n",
        "    try:\n",
        "    #print(\"iiii\",i)\n",
        "      name = lst_name[i]\n",
        "      df = pd.read_csv(prediction_dir+name.replace(\".jpg\",\"\")+\"/\"+name.replace(\".jpg\",\"\")+\".csv\")\n",
        "      true_lst = []\n",
        "      pre_lst  = []\n",
        "      for i in range(len(df)):\n",
        "        true_lst.append(final_true_df[final_true_df[\"name\"]==name][\"text\"].values[0][df[\"pol_true\"].iloc[i]])\n",
        "        pre_lst.append(final_pre_df[final_pre_df[\"name\"]==name][\"text\"].values[0][df[\"pol_pre\"].iloc[i]])\n",
        "      #w = wer(true_lst, pre_lst)\n",
        "      #c = cer(true_lst, pre_lst)\n",
        "      true.append(true_lst)\n",
        "      pre.append(pre_lst)\n",
        "    except:\n",
        "      pass\n",
        "  #_cer = mean(cer_lst)\n",
        "  #_wer = mean(wer_lst)\n",
        "  return true, pre\n"
      ]
    },
    {
      "cell_type": "code",
      "execution_count": null,
      "metadata": {
        "id": "5tgDACVbh2TQ"
      },
      "outputs": [],
      "source": [
        "true = []\n",
        "pre = []\n",
        "true,pre =  get_true_pre(df_true, df_pre)"
      ]
    },
    {
      "cell_type": "code",
      "execution_count": null,
      "metadata": {
        "id": "s4toK7FO0gLD"
      },
      "outputs": [],
      "source": [
        "import numpy as np\n",
        "#!pip install sklearn\n",
        "#import scipy\n",
        "#import sklearn\n",
        "from sklearn.metrics import precision_recall_fscore_support"
      ]
    },
    {
      "cell_type": "code",
      "execution_count": null,
      "metadata": {
        "colab": {
          "base_uri": "https://localhost:8080/"
        },
        "id": "YSoGHklGB6hk",
        "outputId": "a1a4f383-8bda-4acb-a2c3-fdd8a02df3d2"
      },
      "outputs": [
        {
          "data": {
            "text/plain": [
              "['CÓ', 'ĐÁP', 'ÁN']"
            ]
          },
          "execution_count": 68,
          "metadata": {},
          "output_type": "execute_result"
        }
      ],
      "source": [
        "true[2][2].split(\" \")"
      ]
    },
    {
      "cell_type": "code",
      "execution_count": null,
      "metadata": {
        "colab": {
          "base_uri": "https://localhost:8080/"
        },
        "id": "5xRzAs3QDREu",
        "outputId": "2505e20c-c24f-474a-d77b-3d5d3104cfd0"
      },
      "outputs": [
        {
          "data": {
            "text/plain": [
              "['CÓ', 'ĐÁP', 'ÁN']"
            ]
          },
          "execution_count": 69,
          "metadata": {},
          "output_type": "execute_result"
        }
      ],
      "source": [
        "pre[2][2].split(\" \")"
      ]
    },
    {
      "cell_type": "code",
      "execution_count": null,
      "metadata": {
        "id": "ll9B6hDK6Cc2"
      },
      "outputs": [],
      "source": [
        "def get_lst_true_pre_each_image(true, pre):\n",
        "  lst_true = []\n",
        "  lst_pre = []\n",
        "  for i in range(len(true)):\n",
        "    #print(i)\n",
        "    temp_true = true[i].split(\" \")\n",
        "    temp_pre = pre[i].split(\" \")\n",
        "\n",
        "    for j in range(len(temp_true)):\n",
        "      lst_true.append(temp_true[j])\n",
        "    for j in range(len(temp_pre)):\n",
        "      lst_pre.append(temp_pre[j])\n",
        "    hon = len(lst_true) - len(lst_pre)\n",
        "    if hon > 0:\n",
        "      for j in range(hon):\n",
        "        lst_pre.append(\"\")\n",
        "    else:\n",
        "      for j in range(hon*(-1)):\n",
        "        lst_true.append(\"\")\n",
        "  return lst_true, lst_pre"
      ]
    },
    {
      "cell_type": "code",
      "execution_count": null,
      "metadata": {
        "colab": {
          "base_uri": "https://localhost:8080/"
        },
        "id": "kNDY_qeMJP73",
        "outputId": "1e274f3a-918c-49eb-b670-9c2829d44866"
      },
      "outputs": [
        {
          "name": "stdout",
          "output_type": "stream",
          "text": [
            "['LỚP', 'DỰA', 'THEO', 'MÔ', 'HÌNH', 'TRƯỜNG', 'HỌC', 'MỚI', 'TẠI', 'VIỆT', 'NAM', '(VNEN)', 'CÓ', 'ĐÁP', 'ÁN', 'BÀI', 'TẬP', 'DƯƠNG', 'THỊ', 'HỒNG', 'ĐIỆP', 'NHÀ', 'XUẤT', 'BẢN', 'ĐẠI', 'HỌC', 'QUỐC', 'GIA', 'HÀ', 'NỘI']\n",
            "['LỚP', 'DƯA', 'THEO', 'MỎ', 'HÌNH', 'TRƯỜNG', 'HỌC', 'MỚI', 'TẠI', 'VIỆT', 'NAM', '(VNEN)', 'CÓ', 'ĐÁP', 'ÁN', 'BÀI', 'TẬP', 'DƯƠNG', 'THỊ', 'HỒNG', 'ĐIỆP', 'NHÀ', 'XUẤT', 'BẢN', 'ĐẠI', 'HỌC', 'QU', '', '', '']\n"
          ]
        }
      ],
      "source": [
        "t, p = get_lst_true_pre_each_image(true[2], pre[2])\n",
        "print(t)\n",
        "print(p)"
      ]
    },
    {
      "cell_type": "code",
      "execution_count": null,
      "metadata": {
        "id": "TTAn3YNSHkPM"
      },
      "outputs": [],
      "source": [
        "def cal_test_score(true, pre):\n",
        "  lst_score = []\n",
        "  for i in range(len(true)):\n",
        "    lst_true, lst_pre = get_lst_true_pre_each_image(true[i], pre[i])\n",
        "    score = list(precision_recall_fscore_support(lst_true, lst_pre, average='micro'))\n",
        "    #print(i,\">>>\",score)\n",
        "    lst_score.append(score[2])\n",
        "  f1 = mean(lst_score)\n",
        "  return f1"
      ]
    },
    {
      "cell_type": "code",
      "execution_count": null,
      "metadata": {
        "colab": {
          "base_uri": "https://localhost:8080/"
        },
        "id": "VKg-9wzEJC8L",
        "outputId": "ccfc5650-fca3-4310-a942-b59348ba7ced"
      },
      "outputs": [
        {
          "name": "stdout",
          "output_type": "stream",
          "text": [
            "H-mean score  0.7124888238667276\n"
          ]
        },
        {
          "name": "stderr",
          "output_type": "stream",
          "text": [
            "/usr/local/lib/python3.7/dist-packages/sklearn/metrics/_classification.py:1318: UndefinedMetricWarning: Precision and F-score are ill-defined and being set to 0.0 due to no predicted samples. Use `zero_division` parameter to control this behavior.\n",
            "  _warn_prf(average, modifier, msg_start, len(result))\n",
            "/usr/local/lib/python3.7/dist-packages/sklearn/metrics/_classification.py:1318: UndefinedMetricWarning: Recall and F-score are ill-defined and being set to 0.0 due to no true samples. Use `zero_division` parameter to control this behavior.\n",
            "  _warn_prf(average, modifier, msg_start, len(result))\n"
          ]
        }
      ],
      "source": [
        "h_mean  = cal_test_score(true, pre)\n",
        "print(\"H-mean score \", h_mean)"
      ]
    },
    {
      "cell_type": "markdown",
      "metadata": {
        "id": "H0pcdu1cKjbi"
      },
      "source": [
        "#Object detection Yolo"
      ]
    },
    {
      "cell_type": "markdown",
      "metadata": {
        "id": "bADFxvaqpNH5"
      },
      "source": [
        "###convert yolo"
      ]
    },
    {
      "cell_type": "code",
      "execution_count": null,
      "metadata": {
        "id": "_gz5finjLAZO"
      },
      "outputs": [],
      "source": [
        "yolo_prediction_path = \"/content/drive/MyDrive/CS114/Final Project/Prediction/YOLOV4/yolo.csv\""
      ]
    },
    {
      "cell_type": "code",
      "execution_count": null,
      "metadata": {
        "id": "9e7q3u16Lch4"
      },
      "outputs": [],
      "source": [
        "object_detect = pd.read_csv(yolo_prediction_path)"
      ]
    },
    {
      "cell_type": "code",
      "execution_count": null,
      "metadata": {
        "id": "w2ZXM1kSN9fU"
      },
      "outputs": [],
      "source": [
        "#object_detect[\"author\"].iloc[0] == np.nan"
      ]
    },
    {
      "cell_type": "code",
      "execution_count": null,
      "metadata": {
        "id": "humIpTaZLj69"
      },
      "outputs": [],
      "source": [
        "def convert_yolo_prediction(df):\n",
        "  for i in range(len(df)):\n",
        "    if type(df.iloc[i]) != float:\n",
        "      each_image = []\n",
        "      all = df.iloc[i].strip(\"[']\").split(\", \")\n",
        "      if len(all) >1:\n",
        "        for j in all:\n",
        "          #print(j)\n",
        "          t = j.strip(\"'\").split(\",\")\n",
        "          temp = list(map(int, t))\n",
        "          each_image.append(temp)\n",
        "      else:\n",
        "        all = df.iloc[i].strip(\"[']\").split(\",\")\n",
        "        temp = list(map(int, all))\n",
        "        each_image.append(temp)\n",
        "      df.iloc[i] = each_image"
      ]
    },
    {
      "cell_type": "code",
      "execution_count": null,
      "metadata": {
        "id": "euEJ5lsrRZTj"
      },
      "outputs": [],
      "source": [
        "object_detect.columns = ['image', 'Width', 'Height', 'author', 'name', 'publisher']"
      ]
    },
    {
      "cell_type": "code",
      "execution_count": null,
      "metadata": {
        "colab": {
          "base_uri": "https://localhost:8080/"
        },
        "id": "S0KzI8VbQG8A",
        "outputId": "caa45fcf-d28a-4082-e0b4-9532ae166b6f"
      },
      "outputs": [
        {
          "name": "stderr",
          "output_type": "stream",
          "text": [
            "/usr/local/lib/python3.7/dist-packages/pandas/core/indexing.py:1732: SettingWithCopyWarning: \n",
            "A value is trying to be set on a copy of a slice from a DataFrame\n",
            "\n",
            "See the caveats in the documentation: https://pandas.pydata.org/pandas-docs/stable/user_guide/indexing.html#returning-a-view-versus-a-copy\n",
            "  self._setitem_single_block(indexer, value, name)\n"
          ]
        }
      ],
      "source": [
        "convert_yolo_prediction(object_detect[\"author\"])\n",
        "convert_yolo_prediction(object_detect[\"name\"])\n",
        "convert_yolo_prediction(object_detect[\"publisher\"])"
      ]
    },
    {
      "cell_type": "code",
      "execution_count": null,
      "metadata": {
        "colab": {
          "base_uri": "https://localhost:8080/"
        },
        "id": "gLpTOiuqMZ05",
        "outputId": "c2f0b399-6a02-4365-b54b-64a90b7ef1f9"
      },
      "outputs": [
        {
          "data": {
            "text/html": [
              "\n",
              "  <div id=\"df-728ac036-9f65-4bf2-9052-f0bf71ceda9f\">\n",
              "    <div class=\"colab-df-container\">\n",
              "      <div>\n",
              "<style scoped>\n",
              "    .dataframe tbody tr th:only-of-type {\n",
              "        vertical-align: middle;\n",
              "    }\n",
              "\n",
              "    .dataframe tbody tr th {\n",
              "        vertical-align: top;\n",
              "    }\n",
              "\n",
              "    .dataframe thead th {\n",
              "        text-align: right;\n",
              "    }\n",
              "</style>\n",
              "<table border=\"1\" class=\"dataframe\">\n",
              "  <thead>\n",
              "    <tr style=\"text-align: right;\">\n",
              "      <th></th>\n",
              "      <th>image</th>\n",
              "      <th>Width</th>\n",
              "      <th>Height</th>\n",
              "      <th>author</th>\n",
              "      <th>name</th>\n",
              "      <th>publisher</th>\n",
              "    </tr>\n",
              "  </thead>\n",
              "  <tbody>\n",
              "    <tr>\n",
              "      <th>0</th>\n",
              "      <td>photo_43@05-01-2022_08-41-24.jpg</td>\n",
              "      <td>961</td>\n",
              "      <td>1280</td>\n",
              "      <td>NaN</td>\n",
              "      <td>[[244, 374, 772, 650]]</td>\n",
              "      <td>[[262, 998, 662, 1132]]</td>\n",
              "    </tr>\n",
              "    <tr>\n",
              "      <th>1</th>\n",
              "      <td>photo_313@05-01-2022_08-45-39.jpg</td>\n",
              "      <td>961</td>\n",
              "      <td>1280</td>\n",
              "      <td>[[519, 1108, 723, 1180]]</td>\n",
              "      <td>[[296, 222, 644, 544]]</td>\n",
              "      <td>[[365, 1177, 543, 1227]]</td>\n",
              "    </tr>\n",
              "    <tr>\n",
              "      <th>2</th>\n",
              "      <td>photo_272@05-01-2022_08-43-57.jpg</td>\n",
              "      <td>961</td>\n",
              "      <td>1280</td>\n",
              "      <td>[[454, 176, 790, 252]]</td>\n",
              "      <td>[[278, 267, 818, 937]]</td>\n",
              "      <td>[[526, 1121, 824, 1167]]</td>\n",
              "    </tr>\n",
              "  </tbody>\n",
              "</table>\n",
              "</div>\n",
              "      <button class=\"colab-df-convert\" onclick=\"convertToInteractive('df-728ac036-9f65-4bf2-9052-f0bf71ceda9f')\"\n",
              "              title=\"Convert this dataframe to an interactive table.\"\n",
              "              style=\"display:none;\">\n",
              "        \n",
              "  <svg xmlns=\"http://www.w3.org/2000/svg\" height=\"24px\"viewBox=\"0 0 24 24\"\n",
              "       width=\"24px\">\n",
              "    <path d=\"M0 0h24v24H0V0z\" fill=\"none\"/>\n",
              "    <path d=\"M18.56 5.44l.94 2.06.94-2.06 2.06-.94-2.06-.94-.94-2.06-.94 2.06-2.06.94zm-11 1L8.5 8.5l.94-2.06 2.06-.94-2.06-.94L8.5 2.5l-.94 2.06-2.06.94zm10 10l.94 2.06.94-2.06 2.06-.94-2.06-.94-.94-2.06-.94 2.06-2.06.94z\"/><path d=\"M17.41 7.96l-1.37-1.37c-.4-.4-.92-.59-1.43-.59-.52 0-1.04.2-1.43.59L10.3 9.45l-7.72 7.72c-.78.78-.78 2.05 0 2.83L4 21.41c.39.39.9.59 1.41.59.51 0 1.02-.2 1.41-.59l7.78-7.78 2.81-2.81c.8-.78.8-2.07 0-2.86zM5.41 20L4 18.59l7.72-7.72 1.47 1.35L5.41 20z\"/>\n",
              "  </svg>\n",
              "      </button>\n",
              "      \n",
              "  <style>\n",
              "    .colab-df-container {\n",
              "      display:flex;\n",
              "      flex-wrap:wrap;\n",
              "      gap: 12px;\n",
              "    }\n",
              "\n",
              "    .colab-df-convert {\n",
              "      background-color: #E8F0FE;\n",
              "      border: none;\n",
              "      border-radius: 50%;\n",
              "      cursor: pointer;\n",
              "      display: none;\n",
              "      fill: #1967D2;\n",
              "      height: 32px;\n",
              "      padding: 0 0 0 0;\n",
              "      width: 32px;\n",
              "    }\n",
              "\n",
              "    .colab-df-convert:hover {\n",
              "      background-color: #E2EBFA;\n",
              "      box-shadow: 0px 1px 2px rgba(60, 64, 67, 0.3), 0px 1px 3px 1px rgba(60, 64, 67, 0.15);\n",
              "      fill: #174EA6;\n",
              "    }\n",
              "\n",
              "    [theme=dark] .colab-df-convert {\n",
              "      background-color: #3B4455;\n",
              "      fill: #D2E3FC;\n",
              "    }\n",
              "\n",
              "    [theme=dark] .colab-df-convert:hover {\n",
              "      background-color: #434B5C;\n",
              "      box-shadow: 0px 1px 3px 1px rgba(0, 0, 0, 0.15);\n",
              "      filter: drop-shadow(0px 1px 2px rgba(0, 0, 0, 0.3));\n",
              "      fill: #FFFFFF;\n",
              "    }\n",
              "  </style>\n",
              "\n",
              "      <script>\n",
              "        const buttonEl =\n",
              "          document.querySelector('#df-728ac036-9f65-4bf2-9052-f0bf71ceda9f button.colab-df-convert');\n",
              "        buttonEl.style.display =\n",
              "          google.colab.kernel.accessAllowed ? 'block' : 'none';\n",
              "\n",
              "        async function convertToInteractive(key) {\n",
              "          const element = document.querySelector('#df-728ac036-9f65-4bf2-9052-f0bf71ceda9f');\n",
              "          const dataTable =\n",
              "            await google.colab.kernel.invokeFunction('convertToInteractive',\n",
              "                                                     [key], {});\n",
              "          if (!dataTable) return;\n",
              "\n",
              "          const docLinkHtml = 'Like what you see? Visit the ' +\n",
              "            '<a target=\"_blank\" href=https://colab.research.google.com/notebooks/data_table.ipynb>data table notebook</a>'\n",
              "            + ' to learn more about interactive tables.';\n",
              "          element.innerHTML = '';\n",
              "          dataTable['output_type'] = 'display_data';\n",
              "          await google.colab.output.renderOutput(dataTable, element);\n",
              "          const docLink = document.createElement('div');\n",
              "          docLink.innerHTML = docLinkHtml;\n",
              "          element.appendChild(docLink);\n",
              "        }\n",
              "      </script>\n",
              "    </div>\n",
              "  </div>\n",
              "  "
            ],
            "text/plain": [
              "                               image  ...                 publisher\n",
              "0   photo_43@05-01-2022_08-41-24.jpg  ...   [[262, 998, 662, 1132]]\n",
              "1  photo_313@05-01-2022_08-45-39.jpg  ...  [[365, 1177, 543, 1227]]\n",
              "2  photo_272@05-01-2022_08-43-57.jpg  ...  [[526, 1121, 824, 1167]]\n",
              "\n",
              "[3 rows x 6 columns]"
            ]
          },
          "execution_count": 120,
          "metadata": {},
          "output_type": "execute_result"
        }
      ],
      "source": [
        "object_detect.head(3)"
      ]
    },
    {
      "cell_type": "code",
      "execution_count": null,
      "metadata": {
        "colab": {
          "base_uri": "https://localhost:8080/"
        },
        "id": "pz-Q5f4UitTc",
        "outputId": "0d6deef7-f7eb-49fc-f608-a6c68980f5b2"
      },
      "outputs": [
        {
          "data": {
            "application/vnd.google.colaboratory.intrinsic+json": {
              "type": "string"
            },
            "text/plain": [
              "'photo_277@05-01-2022_08-43-57.jpg'"
            ]
          },
          "execution_count": 121,
          "metadata": {},
          "output_type": "execute_result"
        }
      ],
      "source": [
        "object_detect[\"image\"].iloc[82]"
      ]
    },
    {
      "cell_type": "code",
      "execution_count": null,
      "metadata": {
        "colab": {
          "base_uri": "https://localhost:8080/"
        },
        "id": "jbUxGzXvvkFH",
        "outputId": "fe324fb7-f439-41b6-cff0-86d85988229e"
      },
      "outputs": [
        {
          "data": {
            "application/vnd.google.colaboratory.intrinsic+json": {
              "type": "string"
            },
            "text/plain": [
              "'\\nimport numpy as np\\nimport cv2\\n\\nimg = cv2.imread(test_image)\\n#pts = np.array([object_detect[\"author\"].iloc[82][0]])\\n\\n## (1) Crop the bounding rect\\n#rect = cv2.boundingRect(pts)\\nx,y,w,h = np.array(object_detect[\"author\"].iloc[82][0])\\ncroped = img[y:int(y+h/2), x:int(x+w/2)].copy()\\n\\ncv2.imwrite(\"croped.png\", croped)\\n'"
            ]
          },
          "execution_count": 122,
          "metadata": {},
          "output_type": "execute_result"
        }
      ],
      "source": [
        "'''\n",
        "import numpy as np\n",
        "import cv2\n",
        "\n",
        "img = cv2.imread(test_image)\n",
        "#pts = np.array([object_detect[\"author\"].iloc[82][0]])\n",
        "\n",
        "## (1) Crop the bounding rect\n",
        "#rect = cv2.boundingRect(pts)\n",
        "x,y,w,h = np.array(object_detect[\"author\"].iloc[82][0])\n",
        "croped = img[y:int(y+h/2), x:int(x+w/2)].copy()\n",
        "\n",
        "cv2.imwrite(\"croped.png\", croped)\n",
        "'''"
      ]
    },
    {
      "cell_type": "markdown",
      "metadata": {
        "id": "G4qvE8gVS1g9"
      },
      "source": [
        "###convert yolo format to four points"
      ]
    },
    {
      "cell_type": "code",
      "execution_count": null,
      "metadata": {
        "id": "DA99sFFNXAXm"
      },
      "outputs": [],
      "source": [
        "def convert_rect_to_poly_1(lst):\n",
        "  #for i in range(len(lst))\n",
        "  x_min, y_min, x_max, y_max = lst\n",
        "\n",
        "  #p1 = (x-w/2,y+h/2)\n",
        "  #p2 = (x+w/2,y+h/2)\n",
        "  #p3 = (x+w/2,y-h/2)\n",
        "  #p4 = (x-w/2,y-h/2)\n",
        "\n",
        "  p1 = (x_min,y_max)\n",
        "  p2 = (x_max,y_max)\n",
        "  p3 = (x_max, y_min)\n",
        "  p4 = (x_min, y_min)\n",
        "  return [p1, p2, p3, p4]"
      ]
    },
    {
      "cell_type": "code",
      "execution_count": null,
      "metadata": {
        "id": "KZgN2kkfVG2W"
      },
      "outputs": [],
      "source": [
        "def convert_rect_to_poly_all(df):\n",
        "  for i in range(len(df)):\n",
        "    if type(df.iloc[i]) != float:\n",
        "      temp = []\n",
        "      for j in range(len(df.iloc[i])):\n",
        "        temp.append(convert_rect_to_poly_1(df.iloc[i][j]))\n",
        "      df.iloc[i] =  temp\n"
      ]
    },
    {
      "cell_type": "code",
      "execution_count": null,
      "metadata": {
        "colab": {
          "base_uri": "https://localhost:8080/"
        },
        "id": "xYK_3pXfXsf4",
        "outputId": "5067de5c-357e-4f10-eab3-d1e8a4c8ba8d"
      },
      "outputs": [
        {
          "name": "stderr",
          "output_type": "stream",
          "text": [
            "/usr/local/lib/python3.7/dist-packages/pandas/core/indexing.py:1732: SettingWithCopyWarning: \n",
            "A value is trying to be set on a copy of a slice from a DataFrame\n",
            "\n",
            "See the caveats in the documentation: https://pandas.pydata.org/pandas-docs/stable/user_guide/indexing.html#returning-a-view-versus-a-copy\n",
            "  self._setitem_single_block(indexer, value, name)\n"
          ]
        }
      ],
      "source": [
        "convert_rect_to_poly_all(object_detect[\"author\"])\n",
        "convert_rect_to_poly_all(object_detect[\"name\"])\n",
        "convert_rect_to_poly_all(object_detect[\"publisher\"])"
      ]
    },
    {
      "cell_type": "code",
      "execution_count": null,
      "metadata": {
        "id": "_nlm0HmFW-sI"
      },
      "outputs": [],
      "source": [
        "object_detect.columns = ['name', 'Width', 'Height', 'author', 'title', 'publisher']"
      ]
    },
    {
      "cell_type": "markdown",
      "metadata": {
        "id": "OscAjs2BUw3N"
      },
      "source": [
        "### Classification"
      ]
    },
    {
      "cell_type": "code",
      "execution_count": null,
      "metadata": {
        "id": "ycwPPyaZ3_07"
      },
      "outputs": [],
      "source": [
        "def Calculate_Intersect_rate(lst1, lst2):\n",
        "  polygon1 = Polygon(np.array(lst1))\n",
        "  polygon2 = Polygon(np.array(lst2))\n",
        "  intersect = polygon1.intersection(polygon2).area\n",
        "  s_polygon1 = polygon1.area\n",
        "  #union = polygon1.union(polygon2).area\n",
        "  #iou = intersect / union\n",
        "  #print(iou)\n",
        "  return intersect/s_polygon1"
      ]
    },
    {
      "cell_type": "code",
      "execution_count": null,
      "metadata": {
        "id": "LUshHfRkUNh2"
      },
      "outputs": [],
      "source": [
        "object_detect = object_detect.sort_values(\"name\")"
      ]
    },
    {
      "cell_type": "code",
      "execution_count": null,
      "metadata": {
        "id": "8vQvTwGOWIxN"
      },
      "outputs": [],
      "source": [
        "df_true = df_true.sort_values(\"name\")\n",
        "df_pre = df_pre.sort_values(\"name\")"
      ]
    },
    {
      "cell_type": "code",
      "execution_count": null,
      "metadata": {
        "id": "RyZgCWqSU-5Y"
      },
      "outputs": [],
      "source": [
        "from shapely.geometry import Point\n",
        "from shapely.geometry.polygon import Polygon\n",
        "\n",
        "#point = Point(0.5, 0.5)\n",
        "#polygon = Polygon([(0, 0), (0, 1), (1, 1), (1, 0)])\n",
        "#print(polygon.contains(point))"
      ]
    },
    {
      "cell_type": "code",
      "execution_count": null,
      "metadata": {
        "id": "A6GtHQyQ6JTa"
      },
      "outputs": [],
      "source": [
        "df_predict_class = pd.DataFrame(columns = [\"name\", \"author_points\", \"title_points\",\"publisher_points\",\"author_text\", \"title_text\",\"publisher_text\", \"note_points\",\"note_text\"])"
      ]
    },
    {
      "cell_type": "code",
      "execution_count": null,
      "metadata": {
        "colab": {
          "base_uri": "https://localhost:8080/"
        },
        "id": "M3ahxq3ets3W",
        "outputId": "1df2da12-8b5b-4ec4-b55f-783f8ace5978"
      },
      "outputs": [
        {
          "name": "stdout",
          "output_type": "stream",
          "text": [
            "photo_110@05-01-2022_08-42-14.jpg\n"
          ]
        }
      ],
      "source": [
        "name =object_detect['name'].iloc[1]\n",
        "print(name)"
      ]
    },
    {
      "cell_type": "code",
      "execution_count": null,
      "metadata": {
        "id": "3fBvBdBbbmMm"
      },
      "outputs": [],
      "source": [
        "temp = df_pre[df_pre[\"name\"]==name][\"points\"].values[0]"
      ]
    },
    {
      "cell_type": "code",
      "execution_count": null,
      "metadata": {
        "colab": {
          "base_uri": "https://localhost:8080/",
          "height": 35
        },
        "id": "FFSZa5VjGVXT",
        "outputId": "47f22d56-c659-40f5-eb67-6808ee6f0865"
      },
      "outputs": [
        {
          "data": {
            "application/vnd.google.colaboratory.intrinsic+json": {
              "type": "string"
            },
            "text/plain": [
              "'photo_167@05-01-2022_08-42-56.jpg'"
            ]
          },
          "execution_count": 281,
          "metadata": {},
          "output_type": "execute_result"
        }
      ],
      "source": [
        "object_detect[\"name\"].iloc[8]"
      ]
    },
    {
      "cell_type": "code",
      "execution_count": null,
      "metadata": {
        "id": "J3GJpq8lMm5N"
      },
      "outputs": [],
      "source": [
        "df_predict_class[\"name\"] = df_pre[\"name\"]"
      ]
    },
    {
      "cell_type": "code",
      "execution_count": null,
      "metadata": {
        "colab": {
          "base_uri": "https://localhost:8080/"
        },
        "id": "cVfYRyZ2JBIi",
        "outputId": "a9edee40-f290-444e-9669-f6c6d7766be1"
      },
      "outputs": [
        {
          "name": "stderr",
          "output_type": "stream",
          "text": [
            "TopologyException: Input geom 0 is invalid: Self-intersection at 777.78378378378375 716.59459459459458\n",
            "TopologyException: Input geom 0 is invalid: Self-intersection at 803.4015518913676 697.77109602327835\n",
            "TopologyException: Input geom 0 is invalid: Self-intersection at 833.56288979113469 764.36536771169062\n",
            "TopologyException: Input geom 0 is invalid: Self-intersection at 797.73226995969469 654.42191921790584\n"
          ]
        },
        {
          "name": "stdout",
          "output_type": "stream",
          "text": [
            "0\n",
            "1\n",
            "2\n",
            "3\n",
            "4\n",
            "5\n",
            "6\n",
            "7\n",
            "8\n",
            "9\n",
            "10\n",
            "11\n",
            "12\n",
            "13\n",
            "14\n"
          ]
        },
        {
          "name": "stderr",
          "output_type": "stream",
          "text": [
            "TopologyException: Input geom 0 is invalid: Self-intersection at 572 718.5\n",
            "TopologyException: Input geom 0 is invalid: Self-intersection at 573.87733887733884 513.72557172557174\n",
            "TopologyException: Input geom 0 is invalid: Self-intersection at 617.11088709677415 690.36693548387098\n",
            "TopologyException: Input geom 0 is invalid: Self-intersection at 709.93922211958079 807.47717644060776\n",
            "TopologyException: Input geom 0 is invalid: Self-intersection at 678.9684940138626 459.06070153329131\n"
          ]
        },
        {
          "name": "stdout",
          "output_type": "stream",
          "text": [
            "15\n",
            "16\n",
            "17\n",
            "18\n",
            "19\n",
            "20\n",
            "21\n",
            "22\n",
            "23\n",
            "24\n",
            "25\n",
            "26\n",
            "27\n",
            "28\n",
            "29\n",
            "30\n",
            "31\n",
            "32\n",
            "33\n",
            "34\n",
            "35\n",
            "36\n",
            "37\n",
            "38\n",
            "39\n",
            "40\n",
            "41\n",
            "42\n",
            "43\n",
            "44\n",
            "45\n",
            "46\n",
            "47\n",
            "48\n",
            "49\n",
            "50\n",
            "51\n",
            "52\n",
            "53\n",
            "54\n",
            "55\n",
            "56\n",
            "57\n",
            "58\n",
            "59\n",
            "60\n",
            "61\n",
            "62\n",
            "63\n",
            "64\n",
            "65\n",
            "66\n",
            "67\n",
            "68\n",
            "69\n",
            "70\n",
            "71\n",
            "72\n",
            "73\n"
          ]
        },
        {
          "name": "stderr",
          "output_type": "stream",
          "text": [
            "TopologyException: Input geom 0 is invalid: Self-intersection at 781.96302879488087 375.36260220405262\n"
          ]
        },
        {
          "name": "stdout",
          "output_type": "stream",
          "text": [
            "74\n",
            "75\n",
            "76\n",
            "77\n",
            "78\n",
            "79\n",
            "80\n",
            "81\n",
            "82\n",
            "83\n",
            "84\n",
            "85\n",
            "86\n",
            "87\n",
            "88\n",
            "89\n"
          ]
        }
      ],
      "source": [
        "for n in range(len(object_detect)):\n",
        "  print(n)\n",
        "  name =object_detect['name'].iloc[n]\n",
        "  temp = df_pre[df_pre[\"name\"]==name][\"points\"].values[0]\n",
        "  text = df_pre[df_pre[\"name\"]==name][\"text\"].values[0]\n",
        "  author_point, author_text, title_point, title_text, publisher_point, publisher_text, note_point, note_text = [[], [], [], [], [], [], [], []]\n",
        "  temp_lst = []\n",
        "  for i in range(len(temp)):\n",
        "    #print(i)\n",
        "    for j in [\"author\", \"title\", \"publisher\"]:\n",
        "      if type(object_detect[j].iloc[n]) != float:\n",
        "        for o in range(len(object_detect[j].iloc[n])):\n",
        "          #print(o)\n",
        "          try:\n",
        "            inter = Calculate_Intersect_rate(temp[i],object_detect[j].iloc[n][o])\n",
        "            if inter >0.5:\n",
        "              if j == \"author\":\n",
        "                author_point.append(temp[i])\n",
        "                author_text.append(text[i])\n",
        "                temp_lst.append(text[i])\n",
        "              elif j == \"title\":\n",
        "                title_point.append(temp[i])\n",
        "                title_text.append(text[i])\n",
        "                temp_lst.append(text[i])\n",
        "              elif j == \"publisher\":\n",
        "                publisher_point.append(temp[i])\n",
        "                publisher_text.append(text[i])\n",
        "                temp_lst.append(text[i])\n",
        "          except:\n",
        "            pass\n",
        "\n",
        "  for t in range(len(temp)):\n",
        "    if text[t] not in temp_lst:\n",
        "      note_point.append(temp[t])\n",
        "      note_text.append(text[t])\n",
        "  try:\n",
        "    df_predict_class[\"author_points\"].iloc[n] = author_point\n",
        "    df_predict_class[\"author_text\"].iloc[n] = author_text\n",
        "    df_predict_class[\"title_points\"].iloc[n] = title_point\n",
        "    df_predict_class[\"title_text\"].iloc[n] = title_text\n",
        "    df_predict_class[\"publisher_points\"].loc[n] = publisher_point\n",
        "    df_predict_class[\"publisher_text\"].loc[n] = publisher_text\n",
        "    df_predict_class[\"note_points\"].loc[n] = note_point\n",
        "    df_predict_class[\"note_text\"].loc[n] = note_text\n",
        "  except:\n",
        "    pass\n",
        "\n",
        "    #print(author_text)"
      ]
    },
    {
      "cell_type": "markdown",
      "metadata": {
        "id": "WoHaJLudsPsm"
      },
      "source": [
        "####center of polygon"
      ]
    },
    {
      "cell_type": "code",
      "execution_count": null,
      "metadata": {
        "id": "sLwzyZRusPRV"
      },
      "outputs": [],
      "source": [
        "from shapely.geometry import Polygon\n",
        "import collections\n"
      ]
    },
    {
      "cell_type": "code",
      "execution_count": null,
      "metadata": {
        "id": "zg9E1L7TNIta"
      },
      "outputs": [],
      "source": [
        "df = df_predict_class.copy()"
      ]
    },
    {
      "cell_type": "code",
      "execution_count": null,
      "metadata": {
        "id": "9mBxbaXMelW_"
      },
      "outputs": [],
      "source": [
        "df[\"author_cent\"] = \"\"\n",
        "df[\"title_cent\"] = \"\"\n",
        "df[\"publisher_cent\"] = \"\"\n",
        "df[\"note_cent\"] = \"\""
      ]
    },
    {
      "cell_type": "code",
      "execution_count": null,
      "metadata": {
        "colab": {
          "base_uri": "https://localhost:8080/"
        },
        "id": "0aht3FWioPyO",
        "outputId": "721da293-e186-43f8-e504-eedad486aa03"
      },
      "outputs": [
        {
          "data": {
            "text/plain": [
              "Index(['name', 'author_points', 'title_points', 'publisher_points',\n",
              "       'author_text', 'title_text', 'publisher_text', 'note_points',\n",
              "       'note_text', 'author_cent', 'title_cent', 'publisher_cent',\n",
              "       'note_cent'],\n",
              "      dtype='object')"
            ]
          },
          "execution_count": 432,
          "metadata": {},
          "output_type": "execute_result"
        }
      ],
      "source": [
        "df.columns"
      ]
    },
    {
      "cell_type": "code",
      "execution_count": null,
      "metadata": {
        "id": "qTtWlxd1hKuo"
      },
      "outputs": [],
      "source": [
        "def get_Min_X_Max_Y_all(df):\n",
        "  col_min = [\"author_cent\", \"title_cent\", \"publisher_cent\", \"note_cent\"]\n",
        "  col = ['author_points', 'title_points', 'publisher_points','note_points']\n",
        "  for c in range(len(col)):\n",
        "    for i in range(len(df)):\n",
        "      temp = []\n",
        "      if type(df[col[c]].iloc[i]) != float:\n",
        "        for j in df[col[c]].iloc[i]:\n",
        "          p = Polygon(j)\n",
        "          temp.append([p.centroid.y,p.centroid.x])\n",
        "        if len(temp) != 0:\n",
        "          #print(temp)\n",
        "          df[col_min[c]].iloc[i] = temp"
      ]
    },
    {
      "cell_type": "code",
      "execution_count": null,
      "metadata": {
        "id": "3VjsyVYjcpn4"
      },
      "outputs": [],
      "source": [
        "get_Min_X_Max_Y_all(df)"
      ]
    },
    {
      "cell_type": "code",
      "execution_count": null,
      "metadata": {
        "colab": {
          "base_uri": "https://localhost:8080/"
        },
        "id": "09TedgoYovkc",
        "outputId": "c9862644-06b8-4f99-a154-18f696918c32"
      },
      "outputs": [
        {
          "name": "stdout",
          "output_type": "stream",
          "text": [
            "CƠ BẢN VÀ NÂNG CAO >>> [480.3466231146123, 394.5266115861274]\n",
            "TOÀN >>> [385.64356182192614, 364.948011942153]\n",
            "BÀI TẬP >>> [305.3844230082172, 263.24202743215744]\n",
            "2 >>> [377.0327641564507, 671.409406012843]\n"
          ]
        }
      ],
      "source": [
        "for i in range(len(df[\"title_cent\"].iloc[3])):\n",
        "  print(df[\"title_text\"].iloc[3][i],\">>>\",df[\"title_cent\"].iloc[3][i])"
      ]
    },
    {
      "cell_type": "code",
      "execution_count": null,
      "metadata": {
        "colab": {
          "base_uri": "https://localhost:8080/"
        },
        "id": "OmqjYm0w6Cf1",
        "outputId": "2f2b63a6-0119-4d6f-ee57-67a2f2475bb2"
      },
      "outputs": [
        {
          "data": {
            "text/plain": [
              "Index(['name', 'author_points', 'title_points', 'publisher_points',\n",
              "       'author_text', 'title_text', 'publisher_text', 'note_points',\n",
              "       'note_text', 'author_cent', 'title_cent', 'publisher_cent', 'note_cent',\n",
              "       'stt', 'author_stt', 'title_stt', 'publisher_stt', 'note_stt', 'author',\n",
              "       'title', 'publisher', 'note'],\n",
              "      dtype='object')"
            ]
          },
          "execution_count": 489,
          "metadata": {},
          "output_type": "execute_result"
        }
      ],
      "source": [
        "df.columns"
      ]
    },
    {
      "cell_type": "code",
      "execution_count": null,
      "metadata": {
        "id": "_kH_tu7o19CP"
      },
      "outputs": [],
      "source": [
        "df[\"author_stt\"] = \"\"\n",
        "df[\"title_stt\"] = \"\"\n",
        "df[\"publisher_stt\"] = \"\"\n",
        "df[\"note_stt\"] = \"\"\n",
        "col_text = [\"author_text\", \"title_text\", \"publisher_text\", \"note_text\"]\n",
        "col_cent= [\"author_cent\", \"title_cent\", \"publisher_cent\", \"note_cent\"]\n",
        "col_stt = [\"author_stt\",\"title_stt\",  \"publisher_stt\", \"note_stt\"]"
      ]
    },
    {
      "cell_type": "code",
      "execution_count": null,
      "metadata": {
        "id": "QTd9Y4ZLzkff"
      },
      "outputs": [],
      "source": [
        "##get stt\n",
        "for c in range(len(col_cent)):\n",
        "  for i in range(len(df)):\n",
        "    dct = {}\n",
        "    stt = []\n",
        "    dct = dict(zip(range(len(df[col_cent[c]].iloc[i])),df[col_cent[c]].iloc[i]))\n",
        "    t = sorted(dct.items(), key=lambda x: x[1])\n",
        "    for tt in t:\n",
        "      stt.append(tt[0])\n",
        "    df[col_stt[c]].iloc[i] = stt"
      ]
    },
    {
      "cell_type": "code",
      "execution_count": null,
      "metadata": {
        "colab": {
          "base_uri": "https://localhost:8080/",
          "height": 1000
        },
        "id": "ZJK0Cmo66vvT",
        "outputId": "d5a50096-8a83-4c02-ef5e-7bbb859882ef"
      },
      "outputs": [
        {
          "data": {
            "text/html": [
              "\n",
              "  <div id=\"df-a510e846-8fd6-4b2e-a027-a75aca18bb1f\">\n",
              "    <div class=\"colab-df-container\">\n",
              "      <div>\n",
              "<style scoped>\n",
              "    .dataframe tbody tr th:only-of-type {\n",
              "        vertical-align: middle;\n",
              "    }\n",
              "\n",
              "    .dataframe tbody tr th {\n",
              "        vertical-align: top;\n",
              "    }\n",
              "\n",
              "    .dataframe thead th {\n",
              "        text-align: right;\n",
              "    }\n",
              "</style>\n",
              "<table border=\"1\" class=\"dataframe\">\n",
              "  <thead>\n",
              "    <tr style=\"text-align: right;\">\n",
              "      <th></th>\n",
              "      <th>name</th>\n",
              "      <th>author_points</th>\n",
              "      <th>title_points</th>\n",
              "      <th>publisher_points</th>\n",
              "      <th>author_text</th>\n",
              "      <th>title_text</th>\n",
              "      <th>publisher_text</th>\n",
              "      <th>note_points</th>\n",
              "      <th>note_text</th>\n",
              "      <th>author_cent</th>\n",
              "      <th>title_cent</th>\n",
              "      <th>publisher_cent</th>\n",
              "      <th>note_cent</th>\n",
              "      <th>stt</th>\n",
              "      <th>author_stt</th>\n",
              "      <th>title_stt</th>\n",
              "      <th>publisher_stt</th>\n",
              "      <th>note_stt</th>\n",
              "      <th>author</th>\n",
              "      <th>title</th>\n",
              "      <th>publisher</th>\n",
              "      <th>note</th>\n",
              "    </tr>\n",
              "  </thead>\n",
              "  <tbody>\n",
              "    <tr>\n",
              "      <th>0</th>\n",
              "      <td>photo_100@05-01-2022_08-41-58.jpg</td>\n",
              "      <td>[]</td>\n",
              "      <td>[[[154, 196], [281, 190], [364, 178], [443, 18...</td>\n",
              "      <td>[]</td>\n",
              "      <td>[]</td>\n",
              "      <td>[THÁM TỬ, TỪ VỰNG, 5]</td>\n",
              "      <td>[]</td>\n",
              "      <td>[[[100, 1131], [160, 1125], [208, 1120], [256,...</td>\n",
              "      <td>[ANN RICHMOND FISHER]</td>\n",
              "      <td></td>\n",
              "      <td>[[286.1063690867918, 400.2184641852222], [447....</td>\n",
              "      <td></td>\n",
              "      <td>[[1134.3807624113474, 231.39569229529337]]</td>\n",
              "      <td></td>\n",
              "      <td>[]</td>\n",
              "      <td>[0, 2, 1]</td>\n",
              "      <td>[]</td>\n",
              "      <td>[0]</td>\n",
              "      <td></td>\n",
              "      <td></td>\n",
              "      <td></td>\n",
              "      <td></td>\n",
              "    </tr>\n",
              "    <tr>\n",
              "      <th>1</th>\n",
              "      <td>photo_110@05-01-2022_08-42-14.jpg</td>\n",
              "      <td>[[[373, 247], [438, 246], [479, 245], [509, 24...</td>\n",
              "      <td>[[[293, 299], [379, 294], [451, 296], [518, 28...</td>\n",
              "      <td>[]</td>\n",
              "      <td>[NGUYỄN LY NA - TRẦN LÊ HÀ]</td>\n",
              "      <td>[GIẢI BÀI TẬP, VIỆT 2, BIÊN SOẠN THEO CHƯƠNG T...</td>\n",
              "      <td>[]</td>\n",
              "      <td>[]</td>\n",
              "      <td>[]</td>\n",
              "      <td>[[256.7826199071686, 488.23259412068074]]</td>\n",
              "      <td>[[344.1712662005806, 479.49451462992494], [460...</td>\n",
              "      <td></td>\n",
              "      <td></td>\n",
              "      <td></td>\n",
              "      <td>[0]</td>\n",
              "      <td>[0, 3, 1, 2, 4]</td>\n",
              "      <td>[]</td>\n",
              "      <td>[]</td>\n",
              "      <td></td>\n",
              "      <td></td>\n",
              "      <td></td>\n",
              "      <td></td>\n",
              "    </tr>\n",
              "    <tr>\n",
              "      <th>2</th>\n",
              "      <td>photo_133@05-01-2022_08-42-34.jpg</td>\n",
              "      <td>[[[427, 90], [462, 91], [498, 91], [534, 90], ...</td>\n",
              "      <td>[[[170, 266], [329, 263], [455, 265], [581, 26...</td>\n",
              "      <td>[[[584, 1097], [622, 1095], [665, 1091], [707,...</td>\n",
              "      <td>[DƯƠNG THỊ HỒNG ĐIỆP]</td>\n",
              "      <td>[TIẾNG ANH, BÀI TẬP, DƯA THEO MỎ HÌNH TRƯỜNG H...</td>\n",
              "      <td>[NHÀ XUẤT BẢN ĐẠI HỌC QU]</td>\n",
              "      <td>[]</td>\n",
              "      <td>[]</td>\n",
              "      <td>[[103.62652495070023, 521.0539790768407]]</td>\n",
              "      <td>[[346.7125374562857, 510.3968886434751], [215....</td>\n",
              "      <td>[[1105.641878098571, 704.3040869891264]]</td>\n",
              "      <td></td>\n",
              "      <td></td>\n",
              "      <td>[0]</td>\n",
              "      <td>[1, 0, 2, 4, 3]</td>\n",
              "      <td>[0]</td>\n",
              "      <td>[]</td>\n",
              "      <td></td>\n",
              "      <td></td>\n",
              "      <td></td>\n",
              "      <td></td>\n",
              "    </tr>\n",
              "    <tr>\n",
              "      <th>3</th>\n",
              "      <td>photo_139@05-01-2022_08-42-34.jpg</td>\n",
              "      <td>[[[307, 139], [354, 139], [396, 142], [438, 14...</td>\n",
              "      <td>[[[175, 466], [269, 462], [353, 459], [431, 45...</td>\n",
              "      <td>[[[376, 1043], [431, 1036], [485, 1031], [538,...</td>\n",
              "      <td>[GS TẾ ANH VINH KHO BIÊN]</td>\n",
              "      <td>[CƠ BẢN VÀ NÂNG CAO, TOÀN, BÀI TẬP, 2]</td>\n",
              "      <td>[036000000099]</td>\n",
              "      <td>[[[178, 511], [281, 508], [360, 504], [426, 50...</td>\n",
              "      <td>[THEO CHƯƠNG TRÌNH GIÁO DỤC PHỔ THÔNG 2018]</td>\n",
              "      <td>[[153.9036261221616, 415.60007041013904]]</td>\n",
              "      <td>[[480.3466231146123, 394.5266115861274], [385....</td>\n",
              "      <td>[[1041.1747376667283, 518.1996000577236]]</td>\n",
              "      <td>[[516.660393656188, 385.546870574908]]</td>\n",
              "      <td></td>\n",
              "      <td>[0]</td>\n",
              "      <td>[2, 3, 1, 0]</td>\n",
              "      <td>[0]</td>\n",
              "      <td>[0]</td>\n",
              "      <td></td>\n",
              "      <td></td>\n",
              "      <td></td>\n",
              "      <td></td>\n",
              "    </tr>\n",
              "    <tr>\n",
              "      <th>4</th>\n",
              "      <td>photo_141@05-01-2022_08-42-42.jpg</td>\n",
              "      <td>[]</td>\n",
              "      <td>[[[186, 365], [322, 360], [435, 369], [560, 38...</td>\n",
              "      <td>[[[366, 1129], [444, 1129], [516, 1129], [558,...</td>\n",
              "      <td>[]</td>\n",
              "      <td>[TIẾNG ANH 2, CƠ BẢN VÀ NÂNG CAO, BÀI TẬP]</td>\n",
              "      <td>[NHÀ XUẤT BẢN GIÁO DỤC VIỆT NAM]</td>\n",
              "      <td>[[[199, 543], [288, 544], [378, 543], [456, 54...</td>\n",
              "      <td>[THEO CHƯƠNG TRINH GIÁO DỤC PHỔ THÔNG 2018]</td>\n",
              "      <td></td>\n",
              "      <td>[[443.8660921589604, 496.3674472047229], [521....</td>\n",
              "      <td>[[1145.3147782110866, 519.7526933418808]]</td>\n",
              "      <td>[[559.382332429291, 418.5834818545783]]</td>\n",
              "      <td></td>\n",
              "      <td>[]</td>\n",
              "      <td>[2, 0, 1]</td>\n",
              "      <td>[0]</td>\n",
              "      <td>[0]</td>\n",
              "      <td></td>\n",
              "      <td></td>\n",
              "      <td></td>\n",
              "      <td></td>\n",
              "    </tr>\n",
              "    <tr>\n",
              "      <th>...</th>\n",
              "      <td>...</td>\n",
              "      <td>...</td>\n",
              "      <td>...</td>\n",
              "      <td>...</td>\n",
              "      <td>...</td>\n",
              "      <td>...</td>\n",
              "      <td>...</td>\n",
              "      <td>...</td>\n",
              "      <td>...</td>\n",
              "      <td>...</td>\n",
              "      <td>...</td>\n",
              "      <td>...</td>\n",
              "      <td>...</td>\n",
              "      <td>...</td>\n",
              "      <td>...</td>\n",
              "      <td>...</td>\n",
              "      <td>...</td>\n",
              "      <td>...</td>\n",
              "      <td>...</td>\n",
              "      <td>...</td>\n",
              "      <td>...</td>\n",
              "      <td>...</td>\n",
              "    </tr>\n",
              "    <tr>\n",
              "      <th>85</th>\n",
              "      <td>photo_78@05-01-2022_08-41-41.jpg</td>\n",
              "      <td>[]</td>\n",
              "      <td>[[[82, 465], [248, 488], [362, 465], [494, 461...</td>\n",
              "      <td>[]</td>\n",
              "      <td>[]</td>\n",
              "      <td>[HOÁ HỌC, BỐI DƯỠNG]</td>\n",
              "      <td>[]</td>\n",
              "      <td>[[[555, 1120], [593, 1115], [628, 1112], [658,...</td>\n",
              "      <td>[ĐAI HỌC SƯ PHAN]</td>\n",
              "      <td></td>\n",
              "      <td>[[591.0383834613805, 444.4520846311078], [433....</td>\n",
              "      <td></td>\n",
              "      <td>[[1127.2826841114083, 652.6708048369511]]</td>\n",
              "      <td></td>\n",
              "      <td>[]</td>\n",
              "      <td>[1, 0]</td>\n",
              "      <td>[]</td>\n",
              "      <td>[0]</td>\n",
              "      <td></td>\n",
              "      <td></td>\n",
              "      <td></td>\n",
              "      <td></td>\n",
              "    </tr>\n",
              "    <tr>\n",
              "      <th>86</th>\n",
              "      <td>photo_79@05-01-2022_08-41-41.jpg</td>\n",
              "      <td>[[[469, 36], [528, 38], [588, 37], [649, 40], ...</td>\n",
              "      <td>[[[61, 305], [212, 310], [320, 311], [423, 311...</td>\n",
              "      <td>[[[319, 1157], [372, 1157], [414, 1156], [456,...</td>\n",
              "      <td>[GIÁO VIÊN BỒI DƯỠNG HỌC SINH GIỎI, HUỲNH VĂN ÚT]</td>\n",
              "      <td>[HÓA HỌC, CƠ BẢN ĐÃ NÂNG CAO, 500, TẬP]</td>\n",
              "      <td>[Ở NHÀ XUẤT BẢN ĐỒNG NAI]</td>\n",
              "      <td>[[[782, 371], [782, 371], [782, 371], [766, 38...</td>\n",
              "      <td>[1]</td>\n",
              "      <td>[[53.77147049295909, 622.0165018388308], [26.4...</td>\n",
              "      <td>[[378.8822654455001, 367.83828825692603], [267...</td>\n",
              "      <td>[[1183.1325101790858, 462.95908504088186]]</td>\n",
              "      <td>[[446.64982531577533, 792.0579593299292]]</td>\n",
              "      <td></td>\n",
              "      <td>[1, 0]</td>\n",
              "      <td>[3, 2, 1, 0]</td>\n",
              "      <td>[0]</td>\n",
              "      <td>[0]</td>\n",
              "      <td></td>\n",
              "      <td></td>\n",
              "      <td></td>\n",
              "      <td></td>\n",
              "    </tr>\n",
              "    <tr>\n",
              "      <th>87</th>\n",
              "      <td>photo_83@05-01-2022_08-41-50.jpg</td>\n",
              "      <td>[[[308, 87], [378, 92], [439, 96], [493, 98], ...</td>\n",
              "      <td>[[[113, 137], [253, 137], [378, 152], [517, 15...</td>\n",
              "      <td>[[[477, 1175], [547, 1181], [607, 1185], [675,...</td>\n",
              "      <td>[GIÁO VIÊN BỒI DƯỠNG HỌC SINH GIỎI, HUỲNH VĂN ...</td>\n",
              "      <td>[BÀI TẬP HAY 8 KHÓ, 10, HÓA HỌC, 0]</td>\n",
              "      <td>[NHÀ XUẤT BẢN ĐẠI HỌC QUỐC GIA HÀ NỘI]</td>\n",
              "      <td>[]</td>\n",
              "      <td>[]</td>\n",
              "      <td>[[109.9177932462751, 462.10980076319777], [82....</td>\n",
              "      <td>[[229.02058094763382, 460.5031315692521], [610...</td>\n",
              "      <td>[[1210.473846182982, 647.5350264189535]]</td>\n",
              "      <td></td>\n",
              "      <td></td>\n",
              "      <td>[1, 0, 2]</td>\n",
              "      <td>[0, 2, 3, 1]</td>\n",
              "      <td>[0]</td>\n",
              "      <td>[]</td>\n",
              "      <td></td>\n",
              "      <td></td>\n",
              "      <td></td>\n",
              "      <td></td>\n",
              "    </tr>\n",
              "    <tr>\n",
              "      <th>88</th>\n",
              "      <td>photo_93@05-01-2022_08-41-58.jpg</td>\n",
              "      <td>[[[396, 125], [432, 127], [467, 126], [503, 12...</td>\n",
              "      <td>[[[263, 300], [371, 290], [443, 289], [526, 28...</td>\n",
              "      <td>[]</td>\n",
              "      <td>[NGUYỄN THỊ THU HUẾ]</td>\n",
              "      <td>[TIẾNG, BỘ ĐỀ KIỂM TRA, ANH, 9, CÓ ĐÁP ÁN, TAP...</td>\n",
              "      <td>[]</td>\n",
              "      <td>[[[165, 827], [308, 809], [429, 813], [556, 80...</td>\n",
              "      <td>[ENGLISH, MM]</td>\n",
              "      <td>[[138.88548220646493, 485.4502813009754]]</td>\n",
              "      <td>[[364.85533588753526, 488.1816651201772], [260...</td>\n",
              "      <td></td>\n",
              "      <td>[[893.5048986564343, 510.5424876705384], [617....</td>\n",
              "      <td></td>\n",
              "      <td>[0]</td>\n",
              "      <td>[1, 0, 2, 5, 6, 3, 4]</td>\n",
              "      <td>[]</td>\n",
              "      <td>[1, 0]</td>\n",
              "      <td></td>\n",
              "      <td></td>\n",
              "      <td></td>\n",
              "      <td></td>\n",
              "    </tr>\n",
              "    <tr>\n",
              "      <th>89</th>\n",
              "      <td>photo_97@05-01-2022_08-41-58.jpg</td>\n",
              "      <td>[]</td>\n",
              "      <td>[[[152, 289], [263, 286], [371, 290], [479, 28...</td>\n",
              "      <td>[]</td>\n",
              "      <td>[]</td>\n",
              "      <td>[TIẾNGANH, HỌCSINH GIỎI, BỒI DƯỜNG, LUYÊN GIẢI...</td>\n",
              "      <td>[]</td>\n",
              "      <td>[[[387, 90], [453, 86], [496, 80], [536, 79], ...</td>\n",
              "      <td>[BỘ ĐỀ, NÂNG CAO, ĐA DẠN, NÊN TẢ]</td>\n",
              "      <td></td>\n",
              "      <td>[[340.4910601056343, 432.0960380171969], [259....</td>\n",
              "      <td></td>\n",
              "      <td>[[133.63985095386096, 522.8973562053906], [985...</td>\n",
              "      <td></td>\n",
              "      <td>[]</td>\n",
              "      <td>[3, 2, 1, 0, 4]</td>\n",
              "      <td>[]</td>\n",
              "      <td>[0, 2, 1]</td>\n",
              "      <td></td>\n",
              "      <td></td>\n",
              "      <td></td>\n",
              "      <td></td>\n",
              "    </tr>\n",
              "  </tbody>\n",
              "</table>\n",
              "<p>90 rows × 22 columns</p>\n",
              "</div>\n",
              "      <button class=\"colab-df-convert\" onclick=\"convertToInteractive('df-a510e846-8fd6-4b2e-a027-a75aca18bb1f')\"\n",
              "              title=\"Convert this dataframe to an interactive table.\"\n",
              "              style=\"display:none;\">\n",
              "        \n",
              "  <svg xmlns=\"http://www.w3.org/2000/svg\" height=\"24px\"viewBox=\"0 0 24 24\"\n",
              "       width=\"24px\">\n",
              "    <path d=\"M0 0h24v24H0V0z\" fill=\"none\"/>\n",
              "    <path d=\"M18.56 5.44l.94 2.06.94-2.06 2.06-.94-2.06-.94-.94-2.06-.94 2.06-2.06.94zm-11 1L8.5 8.5l.94-2.06 2.06-.94-2.06-.94L8.5 2.5l-.94 2.06-2.06.94zm10 10l.94 2.06.94-2.06 2.06-.94-2.06-.94-.94-2.06-.94 2.06-2.06.94z\"/><path d=\"M17.41 7.96l-1.37-1.37c-.4-.4-.92-.59-1.43-.59-.52 0-1.04.2-1.43.59L10.3 9.45l-7.72 7.72c-.78.78-.78 2.05 0 2.83L4 21.41c.39.39.9.59 1.41.59.51 0 1.02-.2 1.41-.59l7.78-7.78 2.81-2.81c.8-.78.8-2.07 0-2.86zM5.41 20L4 18.59l7.72-7.72 1.47 1.35L5.41 20z\"/>\n",
              "  </svg>\n",
              "      </button>\n",
              "      \n",
              "  <style>\n",
              "    .colab-df-container {\n",
              "      display:flex;\n",
              "      flex-wrap:wrap;\n",
              "      gap: 12px;\n",
              "    }\n",
              "\n",
              "    .colab-df-convert {\n",
              "      background-color: #E8F0FE;\n",
              "      border: none;\n",
              "      border-radius: 50%;\n",
              "      cursor: pointer;\n",
              "      display: none;\n",
              "      fill: #1967D2;\n",
              "      height: 32px;\n",
              "      padding: 0 0 0 0;\n",
              "      width: 32px;\n",
              "    }\n",
              "\n",
              "    .colab-df-convert:hover {\n",
              "      background-color: #E2EBFA;\n",
              "      box-shadow: 0px 1px 2px rgba(60, 64, 67, 0.3), 0px 1px 3px 1px rgba(60, 64, 67, 0.15);\n",
              "      fill: #174EA6;\n",
              "    }\n",
              "\n",
              "    [theme=dark] .colab-df-convert {\n",
              "      background-color: #3B4455;\n",
              "      fill: #D2E3FC;\n",
              "    }\n",
              "\n",
              "    [theme=dark] .colab-df-convert:hover {\n",
              "      background-color: #434B5C;\n",
              "      box-shadow: 0px 1px 3px 1px rgba(0, 0, 0, 0.15);\n",
              "      filter: drop-shadow(0px 1px 2px rgba(0, 0, 0, 0.3));\n",
              "      fill: #FFFFFF;\n",
              "    }\n",
              "  </style>\n",
              "\n",
              "      <script>\n",
              "        const buttonEl =\n",
              "          document.querySelector('#df-a510e846-8fd6-4b2e-a027-a75aca18bb1f button.colab-df-convert');\n",
              "        buttonEl.style.display =\n",
              "          google.colab.kernel.accessAllowed ? 'block' : 'none';\n",
              "\n",
              "        async function convertToInteractive(key) {\n",
              "          const element = document.querySelector('#df-a510e846-8fd6-4b2e-a027-a75aca18bb1f');\n",
              "          const dataTable =\n",
              "            await google.colab.kernel.invokeFunction('convertToInteractive',\n",
              "                                                     [key], {});\n",
              "          if (!dataTable) return;\n",
              "\n",
              "          const docLinkHtml = 'Like what you see? Visit the ' +\n",
              "            '<a target=\"_blank\" href=https://colab.research.google.com/notebooks/data_table.ipynb>data table notebook</a>'\n",
              "            + ' to learn more about interactive tables.';\n",
              "          element.innerHTML = '';\n",
              "          dataTable['output_type'] = 'display_data';\n",
              "          await google.colab.output.renderOutput(dataTable, element);\n",
              "          const docLink = document.createElement('div');\n",
              "          docLink.innerHTML = docLinkHtml;\n",
              "          element.appendChild(docLink);\n",
              "        }\n",
              "      </script>\n",
              "    </div>\n",
              "  </div>\n",
              "  "
            ],
            "text/plain": [
              "                                 name  ... note\n",
              "0   photo_100@05-01-2022_08-41-58.jpg  ...     \n",
              "1   photo_110@05-01-2022_08-42-14.jpg  ...     \n",
              "2   photo_133@05-01-2022_08-42-34.jpg  ...     \n",
              "3   photo_139@05-01-2022_08-42-34.jpg  ...     \n",
              "4   photo_141@05-01-2022_08-42-42.jpg  ...     \n",
              "..                                ...  ...  ...\n",
              "85   photo_78@05-01-2022_08-41-41.jpg  ...     \n",
              "86   photo_79@05-01-2022_08-41-41.jpg  ...     \n",
              "87   photo_83@05-01-2022_08-41-50.jpg  ...     \n",
              "88   photo_93@05-01-2022_08-41-58.jpg  ...     \n",
              "89   photo_97@05-01-2022_08-41-58.jpg  ...     \n",
              "\n",
              "[90 rows x 22 columns]"
            ]
          },
          "execution_count": 496,
          "metadata": {},
          "output_type": "execute_result"
        }
      ],
      "source": [
        "df"
      ]
    },
    {
      "cell_type": "code",
      "execution_count": null,
      "metadata": {
        "id": "y37S3ghAzwRF"
      },
      "outputs": [],
      "source": [
        "#complete\n",
        "df[\"author\"] = \"\"\n",
        "df[\"title\"] = \"\"\n",
        "df[\"publisher\"] = \"\"\n",
        "df[\"note\"] = \"\"\n",
        "final_col = [\"author\", \"title\", \"publisher\", \"note\"]"
      ]
    },
    {
      "cell_type": "code",
      "execution_count": null,
      "metadata": {
        "id": "ywMH5Ve90EUz"
      },
      "outputs": [],
      "source": [
        "for c in range(len(final_col)):\n",
        "  for i in range(len(df)):\n",
        "    temp = ''\n",
        "    for j in df[col_stt[c]].iloc[i]:\n",
        "      temp += \" \" + df[col_text[c]].iloc[i][j]\n",
        "    df[final_col[c]].iloc[i] = temp"
      ]
    },
    {
      "cell_type": "code",
      "execution_count": null,
      "metadata": {
        "colab": {
          "base_uri": "https://localhost:8080/"
        },
        "id": "Z4Xts_I872n6",
        "outputId": "53d82da1-6a7c-4f30-d857-f425e9c791d6"
      },
      "outputs": [
        {
          "data": {
            "text/plain": [
              "Index(['name', 'author_points', 'title_points', 'publisher_points',\n",
              "       'author_text', 'title_text', 'publisher_text', 'note_points',\n",
              "       'note_text', 'author_cent', 'title_cent', 'publisher_cent', 'note_cent',\n",
              "       'stt', 'author_stt', 'title_stt', 'publisher_stt', 'note_stt', 'author',\n",
              "       'title', 'publisher', 'note'],\n",
              "      dtype='object')"
            ]
          },
          "execution_count": 503,
          "metadata": {},
          "output_type": "execute_result"
        }
      ],
      "source": [
        "df.columns"
      ]
    },
    {
      "cell_type": "code",
      "execution_count": null,
      "metadata": {
        "id": "MfYqx4TC4xF0"
      },
      "outputs": [],
      "source": [
        "small_df = df[[\"name\", \"author\",\"title\", \"publisher\", \"note\"]]"
      ]
    },
    {
      "cell_type": "code",
      "execution_count": null,
      "metadata": {
        "id": "unbVslyT6Zmz"
      },
      "outputs": [],
      "source": [
        "#save_df\n",
        "df.to_csv(\"/content/drive/MyDrive/CS114/Final Project/Prediction/Final_prediction/final_predict.csv\", index = None)\n",
        "small_df.to_csv(\"/content/drive/MyDrive/CS114/Final Project/Prediction/Final_prediction/small_final_predict.csv\", index = None)"
      ]
    },
    {
      "cell_type": "markdown",
      "metadata": {
        "id": "erminuUH7rld"
      },
      "source": [
        "###"
      ]
    }
  ],
  "metadata": {
    "accelerator": "GPU",
    "colab": {
      "collapsed_sections": [
        "yPAt2vkDdRS-",
        "ShwOJr4uRABR",
        "f2FF-s1JAr4i",
        "VzNMiNG8SKDg",
        "bADFxvaqpNH5",
        "G4qvE8gVS1g9"
      ],
      "provenance": []
    },
    "kernelspec": {
      "display_name": "Python 3",
      "name": "python3"
    },
    "language_info": {
      "name": "python"
    }
  },
  "nbformat": 4,
  "nbformat_minor": 0
}
